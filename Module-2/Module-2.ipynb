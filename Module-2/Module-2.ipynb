{
  "nbformat": 4,
  "nbformat_minor": 0,
  "metadata": {
    "colab": {
      "name": "minitorch.ipynb",
      "provenance": [],
      "collapsed_sections": [
        "_Dd24T_ElqgZ",
        "RpREoLQqHfdC",
        "YgsJZrPWlzfS",
        "pZUPPysll5WB",
        "A_JXyS76mAFy",
        "VsINCFtiFX8l"
      ]
    },
    "kernelspec": {
      "name": "python3",
      "display_name": "Python 3"
    },
    "language_info": {
      "name": "python"
    }
  },
  "cells": [
    {
      "cell_type": "code",
      "metadata": {
        "colab": {
          "base_uri": "https://localhost:8080/"
        },
        "id": "mUnEygfZjTtM",
        "outputId": "09f9cc1f-fba1-44b6-9984-8a57d6a791c6"
      },
      "source": [
        "from google.colab import drive\n",
        "drive.mount('/content/drive')"
      ],
      "execution_count": 20,
      "outputs": [
        {
          "output_type": "stream",
          "text": [
            "Drive already mounted at /content/drive; to attempt to forcibly remount, call drive.mount(\"/content/drive\", force_remount=True).\n"
          ],
          "name": "stdout"
        }
      ]
    },
    {
      "cell_type": "markdown",
      "metadata": {
        "id": "_Dd24T_ElqgZ"
      },
      "source": [
        "#Instalando minitorch"
      ]
    },
    {
      "cell_type": "code",
      "metadata": {
        "colab": {
          "base_uri": "https://localhost:8080/"
        },
        "id": "gl1b67CrkJ8S",
        "outputId": "c5bc7676-9d66-48fc-dc88-d1dde8d79fd4"
      },
      "source": [
        "#!cd \"/content/drive/MyDrive/IA/minitorch/Module-0\" && python -m pip install -r requirements.txt && python -m pip install -r requirements.extra.txt && pip install -Ue .\n",
        "#!cd \"/content/drive/MyDrive/IA/minitorch/Module-1\" && python -m pip install -r requirements.txt && python -m pip install -r requirements.extra.txt && pip install -Ue .\n",
        "!cd \"/content/drive/MyDrive/IA/minitorch/Module-2\" && python -m pip install -r requirements.txt && python -m pip install -r requirements.extra.txt && pip install -Ue .\n",
        "#!cd \"/content/drive/MyDrive/IA/minitorch/Module-3\" && python -m pip install -r requirements.txt && python -m pip install -r requirements.extra.txt && pip install -Ue .\n",
        "#!cd \"/content/drive/MyDrive/IA/minitorch/Module-4\" && python -m pip install -r requirements.txt && python -m pip install -r requirements.extra.txt && pip install -Ue ."
      ],
      "execution_count": 21,
      "outputs": [
        {
          "output_type": "stream",
          "text": [
            "Requirement already satisfied: numpy==1.19.1 in /usr/local/lib/python3.7/dist-packages (from -r requirements.txt (line 1)) (1.19.1)\n",
            "Requirement already satisfied: numba==0.49 in /usr/local/lib/python3.7/dist-packages (from -r requirements.txt (line 2)) (0.49.0)\n",
            "Requirement already satisfied: pytest==6.0.1 in /usr/local/lib/python3.7/dist-packages (from -r requirements.txt (line 3)) (6.0.1)\n",
            "Requirement already satisfied: pytest-runner==5.2 in /usr/local/lib/python3.7/dist-packages (from -r requirements.txt (line 4)) (5.2)\n",
            "Requirement already satisfied: hypothesis==4.38 in /usr/local/lib/python3.7/dist-packages (from -r requirements.txt (line 5)) (4.38.0)\n",
            "Requirement already satisfied: flake8==3.8.3 in /usr/local/lib/python3.7/dist-packages (from -r requirements.txt (line 6)) (3.8.3)\n",
            "Requirement already satisfied: black==19.10b0 in /usr/local/lib/python3.7/dist-packages (from -r requirements.txt (line 7)) (19.10b0)\n",
            "Requirement already satisfied: colorama==0.4.3 in /usr/local/lib/python3.7/dist-packages (from -r requirements.txt (line 8)) (0.4.3)\n",
            "Requirement already satisfied: pep8-naming==0.11.1 in /usr/local/lib/python3.7/dist-packages (from -r requirements.txt (line 9)) (0.11.1)\n",
            "Requirement already satisfied: setuptools in /usr/local/lib/python3.7/dist-packages (from numba==0.49->-r requirements.txt (line 2)) (57.2.0)\n",
            "Requirement already satisfied: llvmlite<=0.33.0.dev0,>=0.31.0.dev0 in /usr/local/lib/python3.7/dist-packages (from numba==0.49->-r requirements.txt (line 2)) (0.32.1)\n",
            "Requirement already satisfied: pluggy<1.0,>=0.12 in /usr/local/lib/python3.7/dist-packages (from pytest==6.0.1->-r requirements.txt (line 3)) (0.13.1)\n",
            "Requirement already satisfied: iniconfig in /usr/local/lib/python3.7/dist-packages (from pytest==6.0.1->-r requirements.txt (line 3)) (1.1.1)\n",
            "Requirement already satisfied: attrs>=17.4.0 in /usr/local/lib/python3.7/dist-packages (from pytest==6.0.1->-r requirements.txt (line 3)) (21.2.0)\n",
            "Requirement already satisfied: importlib-metadata>=0.12 in /usr/local/lib/python3.7/dist-packages (from pytest==6.0.1->-r requirements.txt (line 3)) (4.6.1)\n",
            "Requirement already satisfied: more-itertools>=4.0.0 in /usr/local/lib/python3.7/dist-packages (from pytest==6.0.1->-r requirements.txt (line 3)) (8.8.0)\n",
            "Requirement already satisfied: py>=1.8.2 in /usr/local/lib/python3.7/dist-packages (from pytest==6.0.1->-r requirements.txt (line 3)) (1.10.0)\n",
            "Requirement already satisfied: packaging in /usr/local/lib/python3.7/dist-packages (from pytest==6.0.1->-r requirements.txt (line 3)) (21.0)\n",
            "Requirement already satisfied: toml in /usr/local/lib/python3.7/dist-packages (from pytest==6.0.1->-r requirements.txt (line 3)) (0.10.2)\n",
            "Requirement already satisfied: mccabe<0.7.0,>=0.6.0 in /usr/local/lib/python3.7/dist-packages (from flake8==3.8.3->-r requirements.txt (line 6)) (0.6.1)\n",
            "Requirement already satisfied: pyflakes<2.3.0,>=2.2.0 in /usr/local/lib/python3.7/dist-packages (from flake8==3.8.3->-r requirements.txt (line 6)) (2.2.0)\n",
            "Requirement already satisfied: pycodestyle<2.7.0,>=2.6.0a1 in /usr/local/lib/python3.7/dist-packages (from flake8==3.8.3->-r requirements.txt (line 6)) (2.6.0)\n",
            "Requirement already satisfied: regex in /usr/local/lib/python3.7/dist-packages (from black==19.10b0->-r requirements.txt (line 7)) (2019.12.20)\n",
            "Requirement already satisfied: typed-ast>=1.4.0 in /usr/local/lib/python3.7/dist-packages (from black==19.10b0->-r requirements.txt (line 7)) (1.4.3)\n",
            "Requirement already satisfied: appdirs in /usr/local/lib/python3.7/dist-packages (from black==19.10b0->-r requirements.txt (line 7)) (1.4.4)\n",
            "Requirement already satisfied: click>=6.5 in /usr/local/lib/python3.7/dist-packages (from black==19.10b0->-r requirements.txt (line 7)) (7.1.2)\n",
            "Requirement already satisfied: pathspec<1,>=0.6 in /usr/local/lib/python3.7/dist-packages (from black==19.10b0->-r requirements.txt (line 7)) (0.9.0)\n",
            "Requirement already satisfied: flake8-polyfill<2,>=1.0.2 in /usr/local/lib/python3.7/dist-packages (from pep8-naming==0.11.1->-r requirements.txt (line 9)) (1.0.2)\n",
            "Requirement already satisfied: zipp>=0.5 in /usr/local/lib/python3.7/dist-packages (from importlib-metadata>=0.12->pytest==6.0.1->-r requirements.txt (line 3)) (3.5.0)\n",
            "Requirement already satisfied: typing-extensions>=3.6.4 in /usr/local/lib/python3.7/dist-packages (from importlib-metadata>=0.12->pytest==6.0.1->-r requirements.txt (line 3)) (3.7.4.3)\n",
            "Requirement already satisfied: pyparsing>=2.0.2 in /usr/local/lib/python3.7/dist-packages (from packaging->pytest==6.0.1->-r requirements.txt (line 3)) (2.4.7)\n",
            "Collecting git+https://github.com/facebookresearch/visdom (from -r requirements.extra.txt (line 3))\n",
            "  Cloning https://github.com/facebookresearch/visdom to /tmp/pip-req-build-gsrbbxi4\n",
            "  Running command git clone -q https://github.com/facebookresearch/visdom /tmp/pip-req-build-gsrbbxi4\n",
            "Requirement already satisfied: networkx==2.4 in /usr/local/lib/python3.7/dist-packages (from -r requirements.extra.txt (line 1)) (2.4)\n",
            "Collecting matplotlib==3.3.0\n",
            "  Using cached matplotlib-3.3.0-1-cp37-cp37m-manylinux1_x86_64.whl (11.5 MB)\n",
            "Requirement already satisfied: pydot==1.4.1 in /usr/local/lib/python3.7/dist-packages (from -r requirements.extra.txt (line 4)) (1.4.1)\n",
            "Requirement already satisfied: numpy>=1.8 in /usr/local/lib/python3.7/dist-packages (from visdom==0.1.8.9->-r requirements.extra.txt (line 3)) (1.19.1)\n",
            "Requirement already satisfied: scipy in /usr/local/lib/python3.7/dist-packages (from visdom==0.1.8.9->-r requirements.extra.txt (line 3)) (1.4.1)\n",
            "Requirement already satisfied: requests in /usr/local/lib/python3.7/dist-packages (from visdom==0.1.8.9->-r requirements.extra.txt (line 3)) (2.23.0)\n",
            "Requirement already satisfied: tornado in /usr/local/lib/python3.7/dist-packages (from visdom==0.1.8.9->-r requirements.extra.txt (line 3)) (5.1.1)\n",
            "Requirement already satisfied: pyzmq in /usr/local/lib/python3.7/dist-packages (from visdom==0.1.8.9->-r requirements.extra.txt (line 3)) (22.1.0)\n",
            "Requirement already satisfied: six in /usr/local/lib/python3.7/dist-packages (from visdom==0.1.8.9->-r requirements.extra.txt (line 3)) (1.15.0)\n",
            "Requirement already satisfied: jsonpatch in /usr/local/lib/python3.7/dist-packages (from visdom==0.1.8.9->-r requirements.extra.txt (line 3)) (1.32)\n",
            "Requirement already satisfied: websocket-client in /usr/local/lib/python3.7/dist-packages (from visdom==0.1.8.9->-r requirements.extra.txt (line 3)) (1.1.0)\n",
            "Requirement already satisfied: pillow in /usr/local/lib/python3.7/dist-packages (from visdom==0.1.8.9->-r requirements.extra.txt (line 3)) (7.1.2)\n",
            "Requirement already satisfied: decorator>=4.3.0 in /usr/local/lib/python3.7/dist-packages (from networkx==2.4->-r requirements.extra.txt (line 1)) (4.4.2)\n",
            "Requirement already satisfied: kiwisolver>=1.0.1 in /usr/local/lib/python3.7/dist-packages (from matplotlib==3.3.0->-r requirements.extra.txt (line 2)) (1.3.1)\n",
            "Requirement already satisfied: cycler>=0.10 in /usr/local/lib/python3.7/dist-packages (from matplotlib==3.3.0->-r requirements.extra.txt (line 2)) (0.10.0)\n",
            "Requirement already satisfied: pyparsing!=2.0.4,!=2.1.2,!=2.1.6,>=2.0.3 in /usr/local/lib/python3.7/dist-packages (from matplotlib==3.3.0->-r requirements.extra.txt (line 2)) (2.4.7)\n",
            "Requirement already satisfied: python-dateutil>=2.1 in /usr/local/lib/python3.7/dist-packages (from matplotlib==3.3.0->-r requirements.extra.txt (line 2)) (2.8.1)\n",
            "Requirement already satisfied: jsonpointer>=1.9 in /usr/local/lib/python3.7/dist-packages (from jsonpatch->visdom==0.1.8.9->-r requirements.extra.txt (line 3)) (2.1)\n",
            "Requirement already satisfied: chardet<4,>=3.0.2 in /usr/local/lib/python3.7/dist-packages (from requests->visdom==0.1.8.9->-r requirements.extra.txt (line 3)) (3.0.4)\n",
            "Requirement already satisfied: idna<3,>=2.5 in /usr/local/lib/python3.7/dist-packages (from requests->visdom==0.1.8.9->-r requirements.extra.txt (line 3)) (2.10)\n",
            "Requirement already satisfied: urllib3!=1.25.0,!=1.25.1,<1.26,>=1.21.1 in /usr/local/lib/python3.7/dist-packages (from requests->visdom==0.1.8.9->-r requirements.extra.txt (line 3)) (1.24.3)\n",
            "Requirement already satisfied: certifi>=2017.4.17 in /usr/local/lib/python3.7/dist-packages (from requests->visdom==0.1.8.9->-r requirements.extra.txt (line 3)) (2021.5.30)\n",
            "Installing collected packages: matplotlib\n",
            "  Attempting uninstall: matplotlib\n",
            "    Found existing installation: matplotlib 3.4.2\n",
            "    Uninstalling matplotlib-3.4.2:\n",
            "      Successfully uninstalled matplotlib-3.4.2\n",
            "\u001b[31mERROR: pip's dependency resolver does not currently take into account all the packages that are installed. This behaviour is the source of the following dependency conflicts.\n",
            "albumentations 0.1.12 requires imgaug<0.2.7,>=0.2.5, but you have imgaug 0.2.9 which is incompatible.\u001b[0m\n",
            "Successfully installed matplotlib-3.3.0\n",
            "Obtaining file:///content/drive/MyDrive/IA/minitorch/Module-2\n",
            "  Installing build dependencies ... \u001b[?25l\u001b[?25hdone\n",
            "  Getting requirements to build wheel ... \u001b[?25l\u001b[?25hdone\n",
            "  Installing backend dependencies ... \u001b[?25l\u001b[?25hdone\n",
            "    Preparing wheel metadata ... \u001b[?25l\u001b[?25hdone\n",
            "Installing collected packages: minitorch\n",
            "  Attempting uninstall: minitorch\n",
            "    Found existing installation: minitorch 0.1\n",
            "    Can't uninstall 'minitorch'. No files were found to uninstall.\n",
            "  Running setup.py develop for minitorch\n",
            "Successfully installed minitorch-0.1\n"
          ],
          "name": "stdout"
        }
      ]
    },
    {
      "cell_type": "markdown",
      "metadata": {
        "id": "RpREoLQqHfdC"
      },
      "source": [
        "#instalando visdom"
      ]
    },
    {
      "cell_type": "code",
      "metadata": {
        "colab": {
          "base_uri": "https://localhost:8080/"
        },
        "id": "XShDXSVdHy5j",
        "outputId": "a378a51e-7c80-4870-af5d-42077ba46c31"
      },
      "source": [
        "!pip install -U matplotlib"
      ],
      "execution_count": 1,
      "outputs": [
        {
          "output_type": "stream",
          "text": [
            "Requirement already satisfied: matplotlib in /usr/local/lib/python3.7/dist-packages (3.4.2)\n",
            "Requirement already satisfied: cycler>=0.10 in /usr/local/lib/python3.7/dist-packages (from matplotlib) (0.10.0)\n",
            "Requirement already satisfied: pillow>=6.2.0 in /usr/local/lib/python3.7/dist-packages (from matplotlib) (7.1.2)\n",
            "Requirement already satisfied: python-dateutil>=2.7 in /usr/local/lib/python3.7/dist-packages (from matplotlib) (2.8.1)\n",
            "Requirement already satisfied: kiwisolver>=1.0.1 in /usr/local/lib/python3.7/dist-packages (from matplotlib) (1.3.1)\n",
            "Requirement already satisfied: numpy>=1.16 in /usr/local/lib/python3.7/dist-packages (from matplotlib) (1.19.1)\n",
            "Requirement already satisfied: pyparsing>=2.2.1 in /usr/local/lib/python3.7/dist-packages (from matplotlib) (2.4.7)\n",
            "Requirement already satisfied: six in /usr/local/lib/python3.7/dist-packages (from cycler>=0.10->matplotlib) (1.15.0)\n"
          ],
          "name": "stdout"
        }
      ]
    },
    {
      "cell_type": "code",
      "metadata": {
        "colab": {
          "base_uri": "https://localhost:8080/"
        },
        "id": "_E41-uiRHc3y",
        "outputId": "35d502b2-6fa5-4b40-f846-17106ecd4e99"
      },
      "source": [
        "!npm install -g localtunnel\n",
        "# 8097 is the port number I set myself, which can be modified to the port number I want to use\n",
        "get_ipython().system_raw('python3 -m pip install visdom')\n",
        "get_ipython().system_raw('python3 -m visdom.server -port 8097 >> visdomlog.txt 2>&1 &')   \n",
        "get_ipython().system_raw('lt --port 8097 >> url.txt 2>&1 &')"
      ],
      "execution_count": 2,
      "outputs": [
        {
          "output_type": "stream",
          "text": [
            "\u001b[K\u001b[?25h/tools/node/bin/lt -> /tools/node/lib/node_modules/localtunnel/bin/lt.js\n",
            "+ localtunnel@2.0.1\n",
            "updated 1 package in 1.046s\n",
            "\n",
            "\u001b[33m\u001b[39m\n",
            "\u001b[33m   ╭────────────────────────────────────────────────────────────────╮\u001b[39m\n",
            "   \u001b[33m│\u001b[39m                                                                \u001b[33m│\u001b[39m\n",
            "   \u001b[33m│\u001b[39m      New \u001b[31mmajor\u001b[39m version of npm available! \u001b[31m6.14.8\u001b[39m → \u001b[32m7.20.1\u001b[39m       \u001b[33m│\u001b[39m\n",
            "   \u001b[33m│\u001b[39m   \u001b[33mChangelog:\u001b[39m \u001b[36mhttps://github.com/npm/cli/releases/tag/v7.20.1\u001b[39m   \u001b[33m│\u001b[39m\n",
            "   \u001b[33m│\u001b[39m               Run \u001b[32mnpm install -g npm\u001b[39m to update!                \u001b[33m│\u001b[39m\n",
            "   \u001b[33m│\u001b[39m                                                                \u001b[33m│\u001b[39m\n",
            "\u001b[33m   ╰────────────────────────────────────────────────────────────────╯\u001b[39m\n",
            "\u001b[33m\u001b[39m\n"
          ],
          "name": "stdout"
        }
      ]
    },
    {
      "cell_type": "markdown",
      "metadata": {
        "id": "YgsJZrPWlzfS"
      },
      "source": [
        "#pyhton-mnist"
      ]
    },
    {
      "cell_type": "code",
      "metadata": {
        "colab": {
          "base_uri": "https://localhost:8080/"
        },
        "id": "lwdKO6Q8kXg5",
        "outputId": "b51d8168-07df-4596-9d99-043323bfecd9"
      },
      "source": [
        "!pip install python-mnist"
      ],
      "execution_count": 3,
      "outputs": [
        {
          "output_type": "stream",
          "text": [
            "Requirement already satisfied: python-mnist in /usr/local/lib/python3.7/dist-packages (0.7)\n"
          ],
          "name": "stdout"
        }
      ]
    },
    {
      "cell_type": "markdown",
      "metadata": {
        "id": "pZUPPysll5WB"
      },
      "source": [
        "#Show"
      ]
    },
    {
      "cell_type": "code",
      "metadata": {
        "colab": {
          "base_uri": "https://localhost:8080/"
        },
        "id": "rTUUIZxNk1Zm",
        "outputId": "fca4b99a-c9e4-41dc-cf00-1cf5ded453a6"
      },
      "source": [
        "!pip show minitorch"
      ],
      "execution_count": 4,
      "outputs": [
        {
          "output_type": "stream",
          "text": [
            "Name: minitorch\n",
            "Version: 0.1\n",
            "Summary: UNKNOWN\n",
            "Home-page: UNKNOWN\n",
            "Author: None\n",
            "Author-email: None\n",
            "License: UNKNOWN\n",
            "Location: /content/drive/MyDrive/IA/minitorch/Module-2\n",
            "Requires: \n",
            "Required-by: \n"
          ],
          "name": "stdout"
        }
      ]
    },
    {
      "cell_type": "markdown",
      "metadata": {
        "id": "A_JXyS76mAFy"
      },
      "source": [
        "#Path"
      ]
    },
    {
      "cell_type": "code",
      "metadata": {
        "id": "9syRLRzTkfMh"
      },
      "source": [
        "import sys\n",
        "#sys.path.append('/content/drive/MyDrive/IA/minitorch/Module-0')\n",
        "#sys.path.append('/content/drive/MyDrive/IA/minitorch/Module-1')\n",
        "sys.path.append('/content/drive/MyDrive/IA/minitorch/Module-2')\n",
        "#sys.path.append('/content/drive/MyDrive/IA/minitorch/Module-3')\n",
        "#sys.path.append('/content/drive/MyDrive/IA/minitorch/Module-4')"
      ],
      "execution_count": 5,
      "outputs": []
    },
    {
      "cell_type": "markdown",
      "metadata": {
        "id": "VsINCFtiFX8l"
      },
      "source": [
        "#Importando minitorch"
      ]
    },
    {
      "cell_type": "code",
      "metadata": {
        "id": "s8aSLGufFef1"
      },
      "source": [
        "import minitorch"
      ],
      "execution_count": 6,
      "outputs": []
    },
    {
      "cell_type": "markdown",
      "metadata": {
        "id": "2QWJOcpVmJmJ"
      },
      "source": [
        "#Tests"
      ]
    },
    {
      "cell_type": "code",
      "metadata": {
        "id": "nfd9GATFkrjm",
        "colab": {
          "base_uri": "https://localhost:8080/"
        },
        "outputId": "cf49b169-aa2a-4234-fe3a-4c51e7fc26fe"
      },
      "source": [
        "#%run /content/drive/MyDrive/IA/minitorch/Module-0/tests/test_operators.py\n",
        "#%run /content/drive/MyDrive/IA/minitorch/Module-0/tests/test_module.py\n",
        "\n",
        "#%run -m pytest /content/drive/MyDrive/IA/minitorch/Module-0\n",
        "\n",
        "#%run /content/drive/MyDrive/IA/minitorch/Module-1/tests/test_scalar.py\n",
        "#%run /content/drive/MyDrive/IA/minitorch/Module-1/tests/test_autodiff.py\n",
        "\n",
        "#%run -m pytest /content/drive/MyDrive/IA/minitorch/Module-1\n",
        "\n",
        "%run /content/drive/MyDrive/IA/minitorch/Module-2/tests/test_tensor_data.py\n",
        "%run /content/drive/MyDrive/IA/minitorch/Module-2/tests/test_tensor.py\n",
        "\n",
        "%run -m pytest /content/drive/MyDrive/IA/minitorch/Module-2"
      ],
      "execution_count": 7,
      "outputs": [
        {
          "output_type": "stream",
          "text": [
            "============================= test session starts ==============================\n",
            "platform linux -- Python 3.7.11, pytest-6.0.1, py-1.10.0, pluggy-0.13.1\n",
            "hypothesis profile 'ci' -> deadline=None, database=DirectoryBasedExampleDatabase('/content/.hypothesis/examples')\n",
            "rootdir: /content/drive/MyDrive/IA/minitorch/Module-2, configfile: pytest.ini\n",
            "plugins: hypothesis-4.38.0, typeguard-2.7.1\n",
            "collected 21 items\n",
            "\n",
            "drive/MyDrive/IA/minitorch/Module-2/tests/test_tensor.py ............... [ 71%]\n",
            "                                                                         [ 71%]\n",
            "drive/MyDrive/IA/minitorch/Module-2/tests/test_tensor_data.py ......     [100%]\n",
            "\n",
            "=============================== warnings summary ===============================\n",
            "/usr/local/lib/python3.7/dist-packages/_pytest/config/__init__.py:1040\n",
            "  /usr/local/lib/python3.7/dist-packages/_pytest/config/__init__.py:1040: PytestAssertRewriteWarning: Module already imported so cannot be rewritten: hypothesis\n",
            "    self._mark_plugins_for_rewrite(hook)\n",
            "\n",
            "-- Docs: https://docs.pytest.org/en/stable/warnings.html\n",
            "======================== 21 passed, 1 warning in 6.89s =========================\n"
          ],
          "name": "stdout"
        }
      ]
    },
    {
      "cell_type": "markdown",
      "metadata": {
        "id": "4R0Egq_OODvc"
      },
      "source": [
        "#Project"
      ]
    },
    {
      "cell_type": "code",
      "metadata": {
        "id": "KZQzZ-8iYdGA",
        "colab": {
          "base_uri": "https://localhost:8080/"
        },
        "outputId": "403dc154-4414-407f-f793-c4b4be134432"
      },
      "source": [
        "#%run /content/drive/MyDrive/IA/minitorch/Module-1/project/run_scalar.py\n",
        "#%run /content/drive/MyDrive/IA/minitorch/Module-1/project/show_expression.py\n",
        "\n",
        "%run /content/drive/MyDrive/IA/minitorch/Module-2/project/run_tensor.py\n",
        "#%run /content/drive/MyDrive/IA/minitorch/Module-2/project/show_expression.py"
      ],
      "execution_count": 13,
      "outputs": [
        {
          "output_type": "stream",
          "text": [
            "WARNING:visdom:Setting up a new session...\n"
          ],
          "name": "stderr"
        },
        {
          "output_type": "stream",
          "text": [
            "Epoch  0  loss  2.170006261307626 correct 25 time 0.7550101280212402\n",
            "Epoch  10  loss  0.641323539867197 correct 33 time 0.7375483512878418\n",
            "Epoch  20  loss  0.6252479935964304 correct 35 time 0.7272799015045166\n",
            "Epoch  30  loss  0.8195024683164008 correct 36 time 0.7334518432617188\n",
            "Epoch  40  loss  0.8234199670569017 correct 35 time 0.745833158493042\n",
            "Epoch  50  loss  0.780133150667137 correct 37 time 0.7394647598266602\n",
            "Epoch  60  loss  0.6585621032027069 correct 40 time 0.7368724346160889\n",
            "Epoch  70  loss  0.46942103192955587 correct 41 time 0.7444121837615967\n",
            "Epoch  80  loss  0.599643353497978 correct 42 time 0.7533156871795654\n",
            "Epoch  90  loss  0.5656671167129221 correct 43 time 0.7234969139099121\n",
            "Epoch  100  loss  0.8178117388896066 correct 40 time 0.7422981262207031\n",
            "Epoch  110  loss  0.19370949855296238 correct 44 time 0.7484416961669922\n",
            "Epoch  120  loss  0.06591515035103032 correct 46 time 0.7708296775817871\n",
            "Epoch  130  loss  0.06626470208876459 correct 45 time 0.7301678657531738\n",
            "Epoch  140  loss  0.05471665359011125 correct 47 time 0.7188830375671387\n",
            "Epoch  150  loss  0.049834751679544084 correct 45 time 0.7299203872680664\n",
            "Epoch  160  loss  0.31828179813425184 correct 45 time 0.7665247917175293\n",
            "Epoch  170  loss  0.5205604365128761 correct 43 time 0.780479907989502\n",
            "Epoch  180  loss  0.25511416666517983 correct 43 time 0.7672004699707031\n",
            "Epoch  190  loss  0.017455206755324987 correct 44 time 0.7366437911987305\n",
            "Epoch  200  loss  0.010118766624532698 correct 45 time 0.7322752475738525\n",
            "Epoch  210  loss  0.005652567594463258 correct 45 time 0.7343828678131104\n",
            "Epoch  220  loss  0.23149302865607435 correct 41 time 0.7294907569885254\n",
            "Epoch  230  loss  0.001735207346885053 correct 46 time 0.7799239158630371\n",
            "Epoch  240  loss  0.0016730499604584563 correct 46 time 0.7302675247192383\n",
            "Epoch  250  loss  0.0004709596154521836 correct 48 time 0.7424654960632324\n"
          ],
          "name": "stdout"
        }
      ]
    },
    {
      "cell_type": "code",
      "metadata": {
        "id": "SPrZKaR56qYE"
      },
      "source": [
        "#[1]*10**10"
      ],
      "execution_count": 9,
      "outputs": []
    }
  ]
}