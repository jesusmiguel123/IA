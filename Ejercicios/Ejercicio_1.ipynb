{
  "nbformat": 4,
  "nbformat_minor": 0,
  "metadata": {
    "colab": {
      "name": "Ejercicio 1.ipynb",
      "provenance": [],
      "collapsed_sections": []
    },
    "kernelspec": {
      "name": "python3",
      "display_name": "Python 3"
    },
    "language_info": {
      "name": "python"
    }
  },
  "cells": [
    {
      "cell_type": "markdown",
      "metadata": {
        "id": "4O0sAw8HyN2b"
      },
      "source": [
        "#Ejercicio 1"
      ]
    },
    {
      "cell_type": "markdown",
      "metadata": {
        "id": "dyTHEKzvyVqy"
      },
      "source": [
        "##Resumen de ML Primer"
      ]
    },
    {
      "cell_type": "markdown",
      "metadata": {
        "id": "jZCryUkFyk6R"
      },
      "source": [
        "###Dataset"
      ]
    },
    {
      "cell_type": "markdown",
      "metadata": {
        "id": "0tM5S1Z70-IS"
      },
      "source": [
        "Es un conjunto de datos para el proceso de entrenamiento.Se usa para el aprendizaje supervisado. Estos datasets pueden ser conjuntos de números, imágenes, etc."
      ]
    },
    {
      "cell_type": "markdown",
      "metadata": {
        "id": "5OLKAthy0RlK"
      },
      "source": [
        "###Model"
      ]
    },
    {
      "cell_type": "markdown",
      "metadata": {
        "id": "b7duA-2X6Sqi"
      },
      "source": [
        "Un módelo es una función que consiste en etiquetar los puntos de un dataset en su respectiva.\n",
        "Estos módelos pueden visualizarse como un contorno que divide los datos en 2D.\n",
        "Uno de los más simples es el lineal, que usa rectas para tal fin. "
      ]
    },
    {
      "cell_type": "markdown",
      "metadata": {
        "id": "foMoVLTc0XL5"
      },
      "source": [
        "###Parameters"
      ]
    },
    {
      "cell_type": "markdown",
      "metadata": {
        "id": "PCrJprFZ-e6z"
      },
      "source": [
        "Estos son numéricos y definen el comportamiento del módelo. En el caso del módelo lineal se tiene que los parametros son el intercepto con el eje $y$ y la pendiente.\n"
      ]
    },
    {
      "cell_type": "markdown",
      "metadata": {
        "id": "EN5UMcqi0fih"
      },
      "source": [
        "###Loss"
      ]
    },
    {
      "cell_type": "markdown",
      "metadata": {
        "id": "lKE4r3HrAFiS"
      },
      "source": [
        "La función de pérdida da como reultado que tan bien esta reprsesentando el módelo los datos de nuestro dataset.\n",
        "\n",
        "La función sigmoide es una función de pérdida que castga con mayor severidad los datos que menos se ajusten al módelo.\n",
        "La pérdida total se halla mediante la multiplicación de los valores de evaluar cada punto.\n",
        "\n",
        "Un buen módelo es aquel que minimiza esta función."
      ]
    },
    {
      "cell_type": "markdown",
      "metadata": {
        "id": "LgKDUFYn0mGB"
      },
      "source": [
        "###Fitting Parameters"
      ]
    },
    {
      "cell_type": "markdown",
      "metadata": {
        "id": "4Mbbd2ESBoc6"
      },
      "source": [
        "Es el proceso de ajustar los parametros del módelo de tal forma que disminuyan la función de pérdida. \n",
        "\n",
        "Una forma de ajustar estos parametros es utilizar el método del descenso del gradiente. Este método cálcula como cambia la función de pérdida al cambio de un parametro. Y varia el mismo mientras disminuya la función de pérdida."
      ]
    },
    {
      "cell_type": "markdown",
      "metadata": {
        "id": "21luKTL00shr"
      },
      "source": [
        "###Neural Networks"
      ]
    },
    {
      "cell_type": "markdown",
      "metadata": {
        "id": "CQHqjitEFAYM"
      },
      "source": [
        "Es una clase de módelo. Combina lo ya mencionado para poder realizar su tarea.\n",
        "\n",
        "Un ejemplo de tarea que puede resolver es clasificar los puntos de un dataset no linealmente separable.\n",
        "\n",
        "Para resolver esto puede hacer el uso de múltiples funciones lineales y como función de pérdida la función ReLU."
      ]
    },
    {
      "cell_type": "markdown",
      "metadata": {
        "id": "QJgv26ZytesK"
      },
      "source": [
        "##Instalando minitorch"
      ]
    },
    {
      "cell_type": "markdown",
      "metadata": {
        "id": "Skgn9NpAttVJ"
      },
      "source": [
        "###Clonando repositorios"
      ]
    },
    {
      "cell_type": "code",
      "metadata": {
        "colab": {
          "base_uri": "https://localhost:8080/"
        },
        "id": "f7mhnytaiRLt",
        "outputId": "ab110bb4-aa5f-4946-eb81-83cc9d4c2947"
      },
      "source": [
        "!git clone \"https://github.com/minitorch/Module-0\""
      ],
      "execution_count": 1,
      "outputs": [
        {
          "output_type": "stream",
          "text": [
            "Cloning into 'Module-0'...\n",
            "remote: Enumerating objects: 117, done.\u001b[K\n",
            "remote: Counting objects: 100% (117/117), done.\u001b[K\n",
            "remote: Compressing objects: 100% (86/86), done.\u001b[K\n",
            "remote: Total 117 (delta 56), reused 83 (delta 29), pack-reused 0\u001b[K\n",
            "Receiving objects: 100% (117/117), 22.55 KiB | 11.27 MiB/s, done.\n",
            "Resolving deltas: 100% (56/56), done.\n"
          ],
          "name": "stdout"
        }
      ]
    },
    {
      "cell_type": "code",
      "metadata": {
        "colab": {
          "base_uri": "https://localhost:8080/"
        },
        "id": "YYlkSCe-iQy9",
        "outputId": "8526e3a9-1c91-4137-8d24-954864a0da3c"
      },
      "source": [
        "!git clone \"https://github.com/minitorch/Module-1\""
      ],
      "execution_count": 2,
      "outputs": [
        {
          "output_type": "stream",
          "text": [
            "Cloning into 'Module-1'...\n",
            "remote: Enumerating objects: 144, done.\u001b[K\n",
            "remote: Counting objects: 100% (144/144), done.\u001b[K\n",
            "remote: Compressing objects: 100% (100/100), done.\u001b[K\n",
            "remote: Total 144 (delta 76), reused 106 (delta 42), pack-reused 0\u001b[K\n",
            "Receiving objects: 100% (144/144), 27.07 KiB | 955.00 KiB/s, done.\n",
            "Resolving deltas: 100% (76/76), done.\n"
          ],
          "name": "stdout"
        }
      ]
    },
    {
      "cell_type": "code",
      "metadata": {
        "colab": {
          "base_uri": "https://localhost:8080/"
        },
        "id": "AxN_tu7wiQYt",
        "outputId": "45f8ca96-6bd7-4054-87a4-1e869182047c"
      },
      "source": [
        "!git clone \"https://github.com/minitorch/Module-2\""
      ],
      "execution_count": 3,
      "outputs": [
        {
          "output_type": "stream",
          "text": [
            "Cloning into 'Module-2'...\n",
            "remote: Enumerating objects: 189, done.\u001b[K\n",
            "remote: Counting objects: 100% (189/189), done.\u001b[K\n",
            "remote: Compressing objects: 100% (126/126), done.\u001b[K\n",
            "remote: Total 189 (delta 115), reused 129 (delta 61), pack-reused 0\u001b[K\n",
            "Receiving objects: 100% (189/189), 45.13 KiB | 1.25 MiB/s, done.\n",
            "Resolving deltas: 100% (115/115), done.\n"
          ],
          "name": "stdout"
        }
      ]
    },
    {
      "cell_type": "code",
      "metadata": {
        "colab": {
          "base_uri": "https://localhost:8080/"
        },
        "id": "V--4IMcyiWH0",
        "outputId": "8a57423c-532d-487c-c73a-04509d9ef72a"
      },
      "source": [
        "!git clone \"https://github.com/minitorch/Module-3\""
      ],
      "execution_count": 4,
      "outputs": [
        {
          "output_type": "stream",
          "text": [
            "Cloning into 'Module-3'...\n",
            "remote: Enumerating objects: 171, done.\u001b[K\n",
            "remote: Counting objects: 100% (171/171), done.\u001b[K\n",
            "remote: Compressing objects: 100% (106/106), done.\u001b[K\n",
            "remote: Total 171 (delta 103), reused 130 (delta 62), pack-reused 0\u001b[K\n",
            "Receiving objects: 100% (171/171), 43.97 KiB | 1.19 MiB/s, done.\n",
            "Resolving deltas: 100% (103/103), done.\n"
          ],
          "name": "stdout"
        }
      ]
    },
    {
      "cell_type": "code",
      "metadata": {
        "colab": {
          "base_uri": "https://localhost:8080/"
        },
        "id": "3wni1BwEbz8Z",
        "outputId": "77a76fef-552f-4ac4-ba00-0c2886d7d8ec"
      },
      "source": [
        "!git clone \"https://github.com/minitorch/Module-4\""
      ],
      "execution_count": 5,
      "outputs": [
        {
          "output_type": "stream",
          "text": [
            "Cloning into 'Module-4'...\n",
            "remote: Enumerating objects: 112, done.\u001b[K\n",
            "remote: Counting objects: 100% (112/112), done.\u001b[K\n",
            "remote: Compressing objects: 100% (75/75), done.\u001b[K\n",
            "remote: Total 112 (delta 60), reused 82 (delta 34), pack-reused 0\u001b[K\n",
            "Receiving objects: 100% (112/112), 38.44 KiB | 1.07 MiB/s, done.\n",
            "Resolving deltas: 100% (60/60), done.\n"
          ],
          "name": "stdout"
        }
      ]
    },
    {
      "cell_type": "markdown",
      "metadata": {
        "id": "CPxnxgH2t_1C"
      },
      "source": [
        "###Instalando módulos"
      ]
    },
    {
      "cell_type": "code",
      "metadata": {
        "colab": {
          "base_uri": "https://localhost:8080/"
        },
        "id": "dlAcqT0_eKdd",
        "outputId": "9cef1894-880e-4b02-fb86-23dfcce402b5"
      },
      "source": [
        "!cd \"Module-0\" && python -m pip install -r requirements.txt && python -m pip install -r requirements.extra.txt && pip install -Ue ."
      ],
      "execution_count": 6,
      "outputs": [
        {
          "output_type": "stream",
          "text": [
            "Collecting numpy==1.19.1\n",
            "\u001b[?25l  Downloading https://files.pythonhosted.org/packages/50/8f/29d5688614f9bba59931683d5d353d738d4a3007833219ee19c455732753/numpy-1.19.1-cp37-cp37m-manylinux2010_x86_64.whl (14.5MB)\n",
            "\u001b[K     |████████████████████████████████| 14.5MB 264kB/s \n",
            "\u001b[?25hCollecting numba==0.49\n",
            "\u001b[?25l  Downloading https://files.pythonhosted.org/packages/e0/ed/456c92a28f04e6910c2ab5deac3a74038115d38f074617bd9052bf318468/numba-0.49.0-cp37-cp37m-manylinux2014_x86_64.whl (3.6MB)\n",
            "\u001b[K     |████████████████████████████████| 3.6MB 43.4MB/s \n",
            "\u001b[?25hCollecting pytest==6.0.1\n",
            "\u001b[?25l  Downloading https://files.pythonhosted.org/packages/98/db/712bee56f9ab20373508a5a1c662e1db49b407dacf03b5224c6171ed0a3d/pytest-6.0.1-py3-none-any.whl (270kB)\n",
            "\u001b[K     |████████████████████████████████| 276kB 37.9MB/s \n",
            "\u001b[?25hCollecting pytest-runner==5.2\n",
            "  Downloading https://files.pythonhosted.org/packages/16/45/81b5262c0efc08882bdf183b788e6d28e3d684863990996d8b60967d48da/pytest_runner-5.2-py2.py3-none-any.whl\n",
            "Collecting hypothesis==4.38\n",
            "\u001b[?25l  Downloading https://files.pythonhosted.org/packages/13/c0/bb3f3140c2936dfa8f6cd330e34f50b6f16fd6ede691b1ce96cb3314cfaa/hypothesis-4.38.0-py3-none-any.whl (272kB)\n",
            "\u001b[K     |████████████████████████████████| 276kB 53.0MB/s \n",
            "\u001b[?25hCollecting flake8==3.8.3\n",
            "\u001b[?25l  Downloading https://files.pythonhosted.org/packages/6c/20/6326a9a0c6f0527612bae748c4c03df5cd69cf06dfb2cf59d85c6e165a6a/flake8-3.8.3-py2.py3-none-any.whl (72kB)\n",
            "\u001b[K     |████████████████████████████████| 81kB 10.9MB/s \n",
            "\u001b[?25hCollecting black==19.10b0\n",
            "\u001b[?25l  Downloading https://files.pythonhosted.org/packages/fd/bb/ad34bbc93d1bea3de086d7c59e528d4a503ac8fe318bd1fa48605584c3d2/black-19.10b0-py36-none-any.whl (97kB)\n",
            "\u001b[K     |████████████████████████████████| 102kB 11.8MB/s \n",
            "\u001b[?25hCollecting colorama==0.4.3\n",
            "  Downloading https://files.pythonhosted.org/packages/c9/dc/45cdef1b4d119eb96316b3117e6d5708a08029992b2fee2c143c7a0a5cc5/colorama-0.4.3-py2.py3-none-any.whl\n",
            "Collecting pep8-naming==0.11.1\n",
            "  Downloading https://files.pythonhosted.org/packages/44/57/d6544d56909f5fc77e24dd6c6727c33cd8d06c67828ecb05c650f3ec95ec/pep8_naming-0.11.1-py2.py3-none-any.whl\n",
            "Collecting llvmlite<=0.33.0.dev0,>=0.31.0.dev0\n",
            "\u001b[?25l  Downloading https://files.pythonhosted.org/packages/c1/4c/e9554f393c60018ff89dcc87f7ff30866c97f81482bec64e62d81685612f/llvmlite-0.32.1-cp37-cp37m-manylinux1_x86_64.whl (20.2MB)\n",
            "\u001b[K     |████████████████████████████████| 20.2MB 1.3MB/s \n",
            "\u001b[?25hRequirement already satisfied: setuptools in /usr/local/lib/python3.7/dist-packages (from numba==0.49->-r requirements.txt (line 2)) (57.0.0)\n",
            "Requirement already satisfied: more-itertools>=4.0.0 in /usr/local/lib/python3.7/dist-packages (from pytest==6.0.1->-r requirements.txt (line 3)) (8.7.0)\n",
            "Collecting pluggy<1.0,>=0.12\n",
            "  Downloading https://files.pythonhosted.org/packages/a0/28/85c7aa31b80d150b772fbe4a229487bc6644da9ccb7e427dd8cc60cb8a62/pluggy-0.13.1-py2.py3-none-any.whl\n",
            "Requirement already satisfied: iniconfig in /usr/local/lib/python3.7/dist-packages (from pytest==6.0.1->-r requirements.txt (line 3)) (1.1.1)\n",
            "Requirement already satisfied: packaging in /usr/local/lib/python3.7/dist-packages (from pytest==6.0.1->-r requirements.txt (line 3)) (20.9)\n",
            "Requirement already satisfied: toml in /usr/local/lib/python3.7/dist-packages (from pytest==6.0.1->-r requirements.txt (line 3)) (0.10.2)\n",
            "Requirement already satisfied: py>=1.8.2 in /usr/local/lib/python3.7/dist-packages (from pytest==6.0.1->-r requirements.txt (line 3)) (1.10.0)\n",
            "Requirement already satisfied: importlib-metadata>=0.12; python_version < \"3.8\" in /usr/local/lib/python3.7/dist-packages (from pytest==6.0.1->-r requirements.txt (line 3)) (4.0.1)\n",
            "Requirement already satisfied: attrs>=17.4.0 in /usr/local/lib/python3.7/dist-packages (from pytest==6.0.1->-r requirements.txt (line 3)) (21.2.0)\n",
            "Collecting pyflakes<2.3.0,>=2.2.0\n",
            "\u001b[?25l  Downloading https://files.pythonhosted.org/packages/69/5b/fd01b0c696f2f9a6d2c839883b642493b431f28fa32b29abc465ef675473/pyflakes-2.2.0-py2.py3-none-any.whl (66kB)\n",
            "\u001b[K     |████████████████████████████████| 71kB 9.4MB/s \n",
            "\u001b[?25hCollecting mccabe<0.7.0,>=0.6.0\n",
            "  Downloading https://files.pythonhosted.org/packages/87/89/479dc97e18549e21354893e4ee4ef36db1d237534982482c3681ee6e7b57/mccabe-0.6.1-py2.py3-none-any.whl\n",
            "Collecting pycodestyle<2.7.0,>=2.6.0a1\n",
            "\u001b[?25l  Downloading https://files.pythonhosted.org/packages/10/5b/88879fb861ab79aef45c7e199cae3ef7af487b5603dcb363517a50602dd7/pycodestyle-2.6.0-py2.py3-none-any.whl (41kB)\n",
            "\u001b[K     |████████████████████████████████| 51kB 6.9MB/s \n",
            "\u001b[?25hRequirement already satisfied: click>=6.5 in /usr/local/lib/python3.7/dist-packages (from black==19.10b0->-r requirements.txt (line 7)) (7.1.2)\n",
            "Collecting typed-ast>=1.4.0\n",
            "\u001b[?25l  Downloading https://files.pythonhosted.org/packages/65/b3/573d2f1fecbbe8f82a8d08172e938c247f99abe1be3bef3da2efaa3810bf/typed_ast-1.4.3-cp37-cp37m-manylinux1_x86_64.whl (743kB)\n",
            "\u001b[K     |████████████████████████████████| 747kB 33.3MB/s \n",
            "\u001b[?25hRequirement already satisfied: regex in /usr/local/lib/python3.7/dist-packages (from black==19.10b0->-r requirements.txt (line 7)) (2019.12.20)\n",
            "Requirement already satisfied: appdirs in /usr/local/lib/python3.7/dist-packages (from black==19.10b0->-r requirements.txt (line 7)) (1.4.4)\n",
            "Collecting pathspec<1,>=0.6\n",
            "  Downloading https://files.pythonhosted.org/packages/29/29/a465741a3d97ea3c17d21eaad4c64205428bde56742360876c4391f930d4/pathspec-0.8.1-py2.py3-none-any.whl\n",
            "Collecting flake8-polyfill<2,>=1.0.2\n",
            "  Downloading https://files.pythonhosted.org/packages/86/b5/a43fed6fd0193585d17d6faa7b85317d4461f694aaed546098c69f856579/flake8_polyfill-1.0.2-py2.py3-none-any.whl\n",
            "Requirement already satisfied: pyparsing>=2.0.2 in /usr/local/lib/python3.7/dist-packages (from packaging->pytest==6.0.1->-r requirements.txt (line 3)) (2.4.7)\n",
            "Requirement already satisfied: typing-extensions>=3.6.4; python_version < \"3.8\" in /usr/local/lib/python3.7/dist-packages (from importlib-metadata>=0.12; python_version < \"3.8\"->pytest==6.0.1->-r requirements.txt (line 3)) (3.7.4.3)\n",
            "Requirement already satisfied: zipp>=0.5 in /usr/local/lib/python3.7/dist-packages (from importlib-metadata>=0.12; python_version < \"3.8\"->pytest==6.0.1->-r requirements.txt (line 3)) (3.4.1)\n",
            "\u001b[31mERROR: tensorflow 2.5.0 has requirement numpy~=1.19.2, but you'll have numpy 1.19.1 which is incompatible.\u001b[0m\n",
            "\u001b[31mERROR: datascience 0.10.6 has requirement folium==0.2.1, but you'll have folium 0.8.3 which is incompatible.\u001b[0m\n",
            "\u001b[31mERROR: albumentations 0.1.12 has requirement imgaug<0.2.7,>=0.2.5, but you'll have imgaug 0.2.9 which is incompatible.\u001b[0m\n",
            "Installing collected packages: numpy, llvmlite, numba, pluggy, pytest, pytest-runner, hypothesis, pyflakes, mccabe, pycodestyle, flake8, typed-ast, pathspec, black, colorama, flake8-polyfill, pep8-naming\n",
            "  Found existing installation: numpy 1.19.5\n",
            "    Uninstalling numpy-1.19.5:\n",
            "      Successfully uninstalled numpy-1.19.5\n",
            "  Found existing installation: llvmlite 0.34.0\n",
            "    Uninstalling llvmlite-0.34.0:\n",
            "      Successfully uninstalled llvmlite-0.34.0\n",
            "  Found existing installation: numba 0.51.2\n",
            "    Uninstalling numba-0.51.2:\n",
            "      Successfully uninstalled numba-0.51.2\n",
            "  Found existing installation: pluggy 0.7.1\n",
            "    Uninstalling pluggy-0.7.1:\n",
            "      Successfully uninstalled pluggy-0.7.1\n",
            "  Found existing installation: pytest 3.6.4\n",
            "    Uninstalling pytest-3.6.4:\n",
            "      Successfully uninstalled pytest-3.6.4\n",
            "Successfully installed black-19.10b0 colorama-0.4.3 flake8-3.8.3 flake8-polyfill-1.0.2 hypothesis-4.38.0 llvmlite-0.32.1 mccabe-0.6.1 numba-0.49.0 numpy-1.19.1 pathspec-0.8.1 pep8-naming-0.11.1 pluggy-0.13.1 pycodestyle-2.6.0 pyflakes-2.2.0 pytest-6.0.1 pytest-runner-5.2 typed-ast-1.4.3\n",
            "Collecting git+https://github.com/facebookresearch/visdom (from -r requirements.extra.txt (line 3))\n",
            "  Cloning https://github.com/facebookresearch/visdom to /tmp/pip-req-build-7n_88xpo\n",
            "  Running command git clone -q https://github.com/facebookresearch/visdom /tmp/pip-req-build-7n_88xpo\n",
            "Collecting networkx==2.4\n",
            "\u001b[?25l  Downloading https://files.pythonhosted.org/packages/41/8f/dd6a8e85946def36e4f2c69c84219af0fa5e832b018c970e92f2ad337e45/networkx-2.4-py3-none-any.whl (1.6MB)\n",
            "\u001b[K     |████████████████████████████████| 1.6MB 7.8MB/s \n",
            "\u001b[?25hCollecting matplotlib==3.3.0\n",
            "\u001b[?25l  Downloading https://files.pythonhosted.org/packages/1c/15/3fea1bfb7e5b77b7cca9c6010a9cabc58ea125385345ecb6f5832eb8b49a/matplotlib-3.3.0-1-cp37-cp37m-manylinux1_x86_64.whl (11.5MB)\n",
            "\u001b[K     |████████████████████████████████| 11.5MB 16.8MB/s \n",
            "\u001b[?25hCollecting pydot==1.4.1\n",
            "  Downloading https://files.pythonhosted.org/packages/33/d1/b1479a770f66d962f545c2101630ce1d5592d90cb4f083d38862e93d16d2/pydot-1.4.1-py2.py3-none-any.whl\n",
            "Requirement already satisfied: numpy>=1.8 in /usr/local/lib/python3.7/dist-packages (from visdom==0.1.8.9->-r requirements.extra.txt (line 3)) (1.19.1)\n",
            "Requirement already satisfied: scipy in /usr/local/lib/python3.7/dist-packages (from visdom==0.1.8.9->-r requirements.extra.txt (line 3)) (1.4.1)\n",
            "Requirement already satisfied: requests in /usr/local/lib/python3.7/dist-packages (from visdom==0.1.8.9->-r requirements.extra.txt (line 3)) (2.23.0)\n",
            "Requirement already satisfied: tornado in /usr/local/lib/python3.7/dist-packages (from visdom==0.1.8.9->-r requirements.extra.txt (line 3)) (5.1.1)\n",
            "Requirement already satisfied: pyzmq in /usr/local/lib/python3.7/dist-packages (from visdom==0.1.8.9->-r requirements.extra.txt (line 3)) (22.0.3)\n",
            "Requirement already satisfied: six in /usr/local/lib/python3.7/dist-packages (from visdom==0.1.8.9->-r requirements.extra.txt (line 3)) (1.15.0)\n",
            "Collecting jsonpatch\n",
            "  Downloading https://files.pythonhosted.org/packages/a3/55/f7c93bae36d869292aedfbcbae8b091386194874f16390d680136edd2b28/jsonpatch-1.32-py2.py3-none-any.whl\n",
            "Collecting websocket-client\n",
            "\u001b[?25l  Downloading https://files.pythonhosted.org/packages/85/ee/7aa724dc2dbed9b028f463eada5482770c13b7381a0c79457d12b3b62de2/websocket_client-1.0.1-py2.py3-none-any.whl (68kB)\n",
            "\u001b[K     |████████████████████████████████| 71kB 9.3MB/s \n",
            "\u001b[?25hRequirement already satisfied: pillow in /usr/local/lib/python3.7/dist-packages (from visdom==0.1.8.9->-r requirements.extra.txt (line 3)) (7.1.2)\n",
            "Requirement already satisfied: decorator>=4.3.0 in /usr/local/lib/python3.7/dist-packages (from networkx==2.4->-r requirements.extra.txt (line 1)) (4.4.2)\n",
            "Requirement already satisfied: cycler>=0.10 in /usr/local/lib/python3.7/dist-packages (from matplotlib==3.3.0->-r requirements.extra.txt (line 2)) (0.10.0)\n",
            "Requirement already satisfied: python-dateutil>=2.1 in /usr/local/lib/python3.7/dist-packages (from matplotlib==3.3.0->-r requirements.extra.txt (line 2)) (2.8.1)\n",
            "Requirement already satisfied: kiwisolver>=1.0.1 in /usr/local/lib/python3.7/dist-packages (from matplotlib==3.3.0->-r requirements.extra.txt (line 2)) (1.3.1)\n",
            "Requirement already satisfied: pyparsing!=2.0.4,!=2.1.2,!=2.1.6,>=2.0.3 in /usr/local/lib/python3.7/dist-packages (from matplotlib==3.3.0->-r requirements.extra.txt (line 2)) (2.4.7)\n",
            "Requirement already satisfied: chardet<4,>=3.0.2 in /usr/local/lib/python3.7/dist-packages (from requests->visdom==0.1.8.9->-r requirements.extra.txt (line 3)) (3.0.4)\n",
            "Requirement already satisfied: certifi>=2017.4.17 in /usr/local/lib/python3.7/dist-packages (from requests->visdom==0.1.8.9->-r requirements.extra.txt (line 3)) (2020.12.5)\n",
            "Requirement already satisfied: idna<3,>=2.5 in /usr/local/lib/python3.7/dist-packages (from requests->visdom==0.1.8.9->-r requirements.extra.txt (line 3)) (2.10)\n",
            "Requirement already satisfied: urllib3!=1.25.0,!=1.25.1,<1.26,>=1.21.1 in /usr/local/lib/python3.7/dist-packages (from requests->visdom==0.1.8.9->-r requirements.extra.txt (line 3)) (1.24.3)\n",
            "Collecting jsonpointer>=1.9\n",
            "  Downloading https://files.pythonhosted.org/packages/23/52/05f67532aa922e494c351344e0d9624a01f74f5dd8402fe0d1b563a6e6fc/jsonpointer-2.1-py2.py3-none-any.whl\n",
            "Building wheels for collected packages: visdom\n",
            "  Building wheel for visdom (setup.py) ... \u001b[?25l\u001b[?25hdone\n",
            "  Created wheel for visdom: filename=visdom-0.1.8.9-cp37-none-any.whl size=569447 sha256=66c32d60235a03b3abf0e9084baa1a195abe72edaa1b04a8847cb128d8a0c70e\n",
            "  Stored in directory: /tmp/pip-ephem-wheel-cache-snqne4e5/wheels/55/75/8a/4a32326a97ab43cfc1a7f98f7b007f15816f0c9adf4ff8a243\n",
            "Successfully built visdom\n",
            "\u001b[31mERROR: albumentations 0.1.12 has requirement imgaug<0.2.7,>=0.2.5, but you'll have imgaug 0.2.9 which is incompatible.\u001b[0m\n",
            "Installing collected packages: networkx, matplotlib, pydot, jsonpointer, jsonpatch, websocket-client, visdom\n",
            "  Found existing installation: networkx 2.5.1\n",
            "    Uninstalling networkx-2.5.1:\n",
            "      Successfully uninstalled networkx-2.5.1\n",
            "  Found existing installation: matplotlib 3.2.2\n",
            "    Uninstalling matplotlib-3.2.2:\n",
            "      Successfully uninstalled matplotlib-3.2.2\n",
            "  Found existing installation: pydot 1.3.0\n",
            "    Uninstalling pydot-1.3.0:\n",
            "      Successfully uninstalled pydot-1.3.0\n",
            "Successfully installed jsonpatch-1.32 jsonpointer-2.1 matplotlib-3.3.0 networkx-2.4 pydot-1.4.1 visdom-0.1.8.9 websocket-client-1.0.1\n",
            "Obtaining file:///content/Module-0\n",
            "  Installing build dependencies ... \u001b[?25l\u001b[?25hdone\n",
            "  Getting requirements to build wheel ... \u001b[?25l\u001b[?25hdone\n",
            "  Installing backend dependencies ... \u001b[?25l\u001b[?25hdone\n",
            "    Preparing wheel metadata ... \u001b[?25l\u001b[?25hdone\n",
            "Installing collected packages: minitorch\n",
            "  Running setup.py develop for minitorch\n",
            "Successfully installed minitorch\n"
          ],
          "name": "stdout"
        }
      ]
    },
    {
      "cell_type": "code",
      "metadata": {
        "colab": {
          "base_uri": "https://localhost:8080/"
        },
        "id": "jyXy3vcVjUhc",
        "outputId": "225b9b5d-3783-44f8-f7da-2ebe1efbcc4b"
      },
      "source": [
        "!cd \"Module-1\" && python -m pip install -r requirements.txt && python -m pip install -r requirements.extra.txt && pip install -Ue ."
      ],
      "execution_count": 7,
      "outputs": [
        {
          "output_type": "stream",
          "text": [
            "Requirement already satisfied: numpy==1.19.1 in /usr/local/lib/python3.7/dist-packages (from -r requirements.txt (line 1)) (1.19.1)\n",
            "Requirement already satisfied: numba==0.49 in /usr/local/lib/python3.7/dist-packages (from -r requirements.txt (line 2)) (0.49.0)\n",
            "Requirement already satisfied: pytest==6.0.1 in /usr/local/lib/python3.7/dist-packages (from -r requirements.txt (line 3)) (6.0.1)\n",
            "Requirement already satisfied: pytest-runner==5.2 in /usr/local/lib/python3.7/dist-packages (from -r requirements.txt (line 4)) (5.2)\n",
            "Requirement already satisfied: hypothesis==4.38 in /usr/local/lib/python3.7/dist-packages (from -r requirements.txt (line 5)) (4.38.0)\n",
            "Requirement already satisfied: flake8==3.8.3 in /usr/local/lib/python3.7/dist-packages (from -r requirements.txt (line 6)) (3.8.3)\n",
            "Requirement already satisfied: black==19.10b0 in /usr/local/lib/python3.7/dist-packages (from -r requirements.txt (line 7)) (19.10b0)\n",
            "Requirement already satisfied: colorama==0.4.3 in /usr/local/lib/python3.7/dist-packages (from -r requirements.txt (line 8)) (0.4.3)\n",
            "Requirement already satisfied: pep8-naming==0.11.1 in /usr/local/lib/python3.7/dist-packages (from -r requirements.txt (line 9)) (0.11.1)\n",
            "Requirement already satisfied: llvmlite<=0.33.0.dev0,>=0.31.0.dev0 in /usr/local/lib/python3.7/dist-packages (from numba==0.49->-r requirements.txt (line 2)) (0.32.1)\n",
            "Requirement already satisfied: setuptools in /usr/local/lib/python3.7/dist-packages (from numba==0.49->-r requirements.txt (line 2)) (57.0.0)\n",
            "Requirement already satisfied: iniconfig in /usr/local/lib/python3.7/dist-packages (from pytest==6.0.1->-r requirements.txt (line 3)) (1.1.1)\n",
            "Requirement already satisfied: attrs>=17.4.0 in /usr/local/lib/python3.7/dist-packages (from pytest==6.0.1->-r requirements.txt (line 3)) (21.2.0)\n",
            "Requirement already satisfied: toml in /usr/local/lib/python3.7/dist-packages (from pytest==6.0.1->-r requirements.txt (line 3)) (0.10.2)\n",
            "Requirement already satisfied: packaging in /usr/local/lib/python3.7/dist-packages (from pytest==6.0.1->-r requirements.txt (line 3)) (20.9)\n",
            "Requirement already satisfied: importlib-metadata>=0.12; python_version < \"3.8\" in /usr/local/lib/python3.7/dist-packages (from pytest==6.0.1->-r requirements.txt (line 3)) (4.0.1)\n",
            "Requirement already satisfied: more-itertools>=4.0.0 in /usr/local/lib/python3.7/dist-packages (from pytest==6.0.1->-r requirements.txt (line 3)) (8.7.0)\n",
            "Requirement already satisfied: py>=1.8.2 in /usr/local/lib/python3.7/dist-packages (from pytest==6.0.1->-r requirements.txt (line 3)) (1.10.0)\n",
            "Requirement already satisfied: pluggy<1.0,>=0.12 in /usr/local/lib/python3.7/dist-packages (from pytest==6.0.1->-r requirements.txt (line 3)) (0.13.1)\n",
            "Requirement already satisfied: mccabe<0.7.0,>=0.6.0 in /usr/local/lib/python3.7/dist-packages (from flake8==3.8.3->-r requirements.txt (line 6)) (0.6.1)\n",
            "Requirement already satisfied: pyflakes<2.3.0,>=2.2.0 in /usr/local/lib/python3.7/dist-packages (from flake8==3.8.3->-r requirements.txt (line 6)) (2.2.0)\n",
            "Requirement already satisfied: pycodestyle<2.7.0,>=2.6.0a1 in /usr/local/lib/python3.7/dist-packages (from flake8==3.8.3->-r requirements.txt (line 6)) (2.6.0)\n",
            "Requirement already satisfied: appdirs in /usr/local/lib/python3.7/dist-packages (from black==19.10b0->-r requirements.txt (line 7)) (1.4.4)\n",
            "Requirement already satisfied: regex in /usr/local/lib/python3.7/dist-packages (from black==19.10b0->-r requirements.txt (line 7)) (2019.12.20)\n",
            "Requirement already satisfied: pathspec<1,>=0.6 in /usr/local/lib/python3.7/dist-packages (from black==19.10b0->-r requirements.txt (line 7)) (0.8.1)\n",
            "Requirement already satisfied: click>=6.5 in /usr/local/lib/python3.7/dist-packages (from black==19.10b0->-r requirements.txt (line 7)) (7.1.2)\n",
            "Requirement already satisfied: typed-ast>=1.4.0 in /usr/local/lib/python3.7/dist-packages (from black==19.10b0->-r requirements.txt (line 7)) (1.4.3)\n",
            "Requirement already satisfied: flake8-polyfill<2,>=1.0.2 in /usr/local/lib/python3.7/dist-packages (from pep8-naming==0.11.1->-r requirements.txt (line 9)) (1.0.2)\n",
            "Requirement already satisfied: pyparsing>=2.0.2 in /usr/local/lib/python3.7/dist-packages (from packaging->pytest==6.0.1->-r requirements.txt (line 3)) (2.4.7)\n",
            "Requirement already satisfied: zipp>=0.5 in /usr/local/lib/python3.7/dist-packages (from importlib-metadata>=0.12; python_version < \"3.8\"->pytest==6.0.1->-r requirements.txt (line 3)) (3.4.1)\n",
            "Requirement already satisfied: typing-extensions>=3.6.4; python_version < \"3.8\" in /usr/local/lib/python3.7/dist-packages (from importlib-metadata>=0.12; python_version < \"3.8\"->pytest==6.0.1->-r requirements.txt (line 3)) (3.7.4.3)\n",
            "Collecting git+https://github.com/facebookresearch/visdom (from -r requirements.extra.txt (line 3))\n",
            "  Cloning https://github.com/facebookresearch/visdom to /tmp/pip-req-build-ir501sdy\n",
            "  Running command git clone -q https://github.com/facebookresearch/visdom /tmp/pip-req-build-ir501sdy\n",
            "Requirement already satisfied (use --upgrade to upgrade): visdom==0.1.8.9 from git+https://github.com/facebookresearch/visdom in /usr/local/lib/python3.7/dist-packages (from -r requirements.extra.txt (line 3))\n",
            "Requirement already satisfied: networkx==2.4 in /usr/local/lib/python3.7/dist-packages (from -r requirements.extra.txt (line 1)) (2.4)\n",
            "Requirement already satisfied: matplotlib==3.3.0 in /usr/local/lib/python3.7/dist-packages (from -r requirements.extra.txt (line 2)) (3.3.0)\n",
            "Requirement already satisfied: pydot==1.4.1 in /usr/local/lib/python3.7/dist-packages (from -r requirements.extra.txt (line 4)) (1.4.1)\n",
            "Requirement already satisfied: numpy>=1.8 in /usr/local/lib/python3.7/dist-packages (from visdom==0.1.8.9->-r requirements.extra.txt (line 3)) (1.19.1)\n",
            "Requirement already satisfied: scipy in /usr/local/lib/python3.7/dist-packages (from visdom==0.1.8.9->-r requirements.extra.txt (line 3)) (1.4.1)\n",
            "Requirement already satisfied: requests in /usr/local/lib/python3.7/dist-packages (from visdom==0.1.8.9->-r requirements.extra.txt (line 3)) (2.23.0)\n",
            "Requirement already satisfied: tornado in /usr/local/lib/python3.7/dist-packages (from visdom==0.1.8.9->-r requirements.extra.txt (line 3)) (5.1.1)\n",
            "Requirement already satisfied: pyzmq in /usr/local/lib/python3.7/dist-packages (from visdom==0.1.8.9->-r requirements.extra.txt (line 3)) (22.0.3)\n",
            "Requirement already satisfied: six in /usr/local/lib/python3.7/dist-packages (from visdom==0.1.8.9->-r requirements.extra.txt (line 3)) (1.15.0)\n",
            "Requirement already satisfied: jsonpatch in /usr/local/lib/python3.7/dist-packages (from visdom==0.1.8.9->-r requirements.extra.txt (line 3)) (1.32)\n",
            "Requirement already satisfied: websocket-client in /usr/local/lib/python3.7/dist-packages (from visdom==0.1.8.9->-r requirements.extra.txt (line 3)) (1.0.1)\n",
            "Requirement already satisfied: pillow in /usr/local/lib/python3.7/dist-packages (from visdom==0.1.8.9->-r requirements.extra.txt (line 3)) (7.1.2)\n",
            "Requirement already satisfied: decorator>=4.3.0 in /usr/local/lib/python3.7/dist-packages (from networkx==2.4->-r requirements.extra.txt (line 1)) (4.4.2)\n",
            "Requirement already satisfied: pyparsing!=2.0.4,!=2.1.2,!=2.1.6,>=2.0.3 in /usr/local/lib/python3.7/dist-packages (from matplotlib==3.3.0->-r requirements.extra.txt (line 2)) (2.4.7)\n",
            "Requirement already satisfied: kiwisolver>=1.0.1 in /usr/local/lib/python3.7/dist-packages (from matplotlib==3.3.0->-r requirements.extra.txt (line 2)) (1.3.1)\n",
            "Requirement already satisfied: python-dateutil>=2.1 in /usr/local/lib/python3.7/dist-packages (from matplotlib==3.3.0->-r requirements.extra.txt (line 2)) (2.8.1)\n",
            "Requirement already satisfied: cycler>=0.10 in /usr/local/lib/python3.7/dist-packages (from matplotlib==3.3.0->-r requirements.extra.txt (line 2)) (0.10.0)\n",
            "Requirement already satisfied: idna<3,>=2.5 in /usr/local/lib/python3.7/dist-packages (from requests->visdom==0.1.8.9->-r requirements.extra.txt (line 3)) (2.10)\n",
            "Requirement already satisfied: chardet<4,>=3.0.2 in /usr/local/lib/python3.7/dist-packages (from requests->visdom==0.1.8.9->-r requirements.extra.txt (line 3)) (3.0.4)\n",
            "Requirement already satisfied: urllib3!=1.25.0,!=1.25.1,<1.26,>=1.21.1 in /usr/local/lib/python3.7/dist-packages (from requests->visdom==0.1.8.9->-r requirements.extra.txt (line 3)) (1.24.3)\n",
            "Requirement already satisfied: certifi>=2017.4.17 in /usr/local/lib/python3.7/dist-packages (from requests->visdom==0.1.8.9->-r requirements.extra.txt (line 3)) (2020.12.5)\n",
            "Requirement already satisfied: jsonpointer>=1.9 in /usr/local/lib/python3.7/dist-packages (from jsonpatch->visdom==0.1.8.9->-r requirements.extra.txt (line 3)) (2.1)\n",
            "Building wheels for collected packages: visdom\n",
            "  Building wheel for visdom (setup.py) ... \u001b[?25l\u001b[?25hdone\n",
            "  Created wheel for visdom: filename=visdom-0.1.8.9-cp37-none-any.whl size=569447 sha256=80d4c35e88749f334d3fbe46dbd51d8b6a1f3b3042049e812e8bfb26cee6082a\n",
            "  Stored in directory: /tmp/pip-ephem-wheel-cache-o9tdbcmy/wheels/55/75/8a/4a32326a97ab43cfc1a7f98f7b007f15816f0c9adf4ff8a243\n",
            "Successfully built visdom\n",
            "Obtaining file:///content/Module-1\n",
            "  Installing build dependencies ... \u001b[?25l\u001b[?25hdone\n",
            "  Getting requirements to build wheel ... \u001b[?25l\u001b[?25hdone\n",
            "  Installing backend dependencies ... \u001b[?25l\u001b[?25hdone\n",
            "    Preparing wheel metadata ... \u001b[?25l\u001b[?25hdone\n",
            "Installing collected packages: minitorch\n",
            "  Found existing installation: minitorch 0.1\n",
            "    Can't uninstall 'minitorch'. No files were found to uninstall.\n",
            "  Running setup.py develop for minitorch\n",
            "Successfully installed minitorch\n"
          ],
          "name": "stdout"
        }
      ]
    },
    {
      "cell_type": "code",
      "metadata": {
        "colab": {
          "base_uri": "https://localhost:8080/"
        },
        "id": "Bmz75CBljVHE",
        "outputId": "0a2174f7-c344-4b4a-ddc2-3cc862fa6a55"
      },
      "source": [
        "!cd \"Module-2\" && python -m pip install -r requirements.txt && python -m pip install -r requirements.extra.txt && pip install -Ue ."
      ],
      "execution_count": 8,
      "outputs": [
        {
          "output_type": "stream",
          "text": [
            "Requirement already satisfied: numpy==1.19.1 in /usr/local/lib/python3.7/dist-packages (from -r requirements.txt (line 1)) (1.19.1)\n",
            "Requirement already satisfied: numba==0.49 in /usr/local/lib/python3.7/dist-packages (from -r requirements.txt (line 2)) (0.49.0)\n",
            "Requirement already satisfied: pytest==6.0.1 in /usr/local/lib/python3.7/dist-packages (from -r requirements.txt (line 3)) (6.0.1)\n",
            "Requirement already satisfied: pytest-runner==5.2 in /usr/local/lib/python3.7/dist-packages (from -r requirements.txt (line 4)) (5.2)\n",
            "Requirement already satisfied: hypothesis==4.38 in /usr/local/lib/python3.7/dist-packages (from -r requirements.txt (line 5)) (4.38.0)\n",
            "Requirement already satisfied: flake8==3.8.3 in /usr/local/lib/python3.7/dist-packages (from -r requirements.txt (line 6)) (3.8.3)\n",
            "Requirement already satisfied: black==19.10b0 in /usr/local/lib/python3.7/dist-packages (from -r requirements.txt (line 7)) (19.10b0)\n",
            "Requirement already satisfied: colorama==0.4.3 in /usr/local/lib/python3.7/dist-packages (from -r requirements.txt (line 8)) (0.4.3)\n",
            "Requirement already satisfied: pep8-naming==0.11.1 in /usr/local/lib/python3.7/dist-packages (from -r requirements.txt (line 9)) (0.11.1)\n",
            "Requirement already satisfied: setuptools in /usr/local/lib/python3.7/dist-packages (from numba==0.49->-r requirements.txt (line 2)) (57.0.0)\n",
            "Requirement already satisfied: llvmlite<=0.33.0.dev0,>=0.31.0.dev0 in /usr/local/lib/python3.7/dist-packages (from numba==0.49->-r requirements.txt (line 2)) (0.32.1)\n",
            "Requirement already satisfied: py>=1.8.2 in /usr/local/lib/python3.7/dist-packages (from pytest==6.0.1->-r requirements.txt (line 3)) (1.10.0)\n",
            "Requirement already satisfied: importlib-metadata>=0.12; python_version < \"3.8\" in /usr/local/lib/python3.7/dist-packages (from pytest==6.0.1->-r requirements.txt (line 3)) (4.0.1)\n",
            "Requirement already satisfied: toml in /usr/local/lib/python3.7/dist-packages (from pytest==6.0.1->-r requirements.txt (line 3)) (0.10.2)\n",
            "Requirement already satisfied: iniconfig in /usr/local/lib/python3.7/dist-packages (from pytest==6.0.1->-r requirements.txt (line 3)) (1.1.1)\n",
            "Requirement already satisfied: packaging in /usr/local/lib/python3.7/dist-packages (from pytest==6.0.1->-r requirements.txt (line 3)) (20.9)\n",
            "Requirement already satisfied: more-itertools>=4.0.0 in /usr/local/lib/python3.7/dist-packages (from pytest==6.0.1->-r requirements.txt (line 3)) (8.7.0)\n",
            "Requirement already satisfied: pluggy<1.0,>=0.12 in /usr/local/lib/python3.7/dist-packages (from pytest==6.0.1->-r requirements.txt (line 3)) (0.13.1)\n",
            "Requirement already satisfied: attrs>=17.4.0 in /usr/local/lib/python3.7/dist-packages (from pytest==6.0.1->-r requirements.txt (line 3)) (21.2.0)\n",
            "Requirement already satisfied: mccabe<0.7.0,>=0.6.0 in /usr/local/lib/python3.7/dist-packages (from flake8==3.8.3->-r requirements.txt (line 6)) (0.6.1)\n",
            "Requirement already satisfied: pyflakes<2.3.0,>=2.2.0 in /usr/local/lib/python3.7/dist-packages (from flake8==3.8.3->-r requirements.txt (line 6)) (2.2.0)\n",
            "Requirement already satisfied: pycodestyle<2.7.0,>=2.6.0a1 in /usr/local/lib/python3.7/dist-packages (from flake8==3.8.3->-r requirements.txt (line 6)) (2.6.0)\n",
            "Requirement already satisfied: click>=6.5 in /usr/local/lib/python3.7/dist-packages (from black==19.10b0->-r requirements.txt (line 7)) (7.1.2)\n",
            "Requirement already satisfied: regex in /usr/local/lib/python3.7/dist-packages (from black==19.10b0->-r requirements.txt (line 7)) (2019.12.20)\n",
            "Requirement already satisfied: appdirs in /usr/local/lib/python3.7/dist-packages (from black==19.10b0->-r requirements.txt (line 7)) (1.4.4)\n",
            "Requirement already satisfied: pathspec<1,>=0.6 in /usr/local/lib/python3.7/dist-packages (from black==19.10b0->-r requirements.txt (line 7)) (0.8.1)\n",
            "Requirement already satisfied: typed-ast>=1.4.0 in /usr/local/lib/python3.7/dist-packages (from black==19.10b0->-r requirements.txt (line 7)) (1.4.3)\n",
            "Requirement already satisfied: flake8-polyfill<2,>=1.0.2 in /usr/local/lib/python3.7/dist-packages (from pep8-naming==0.11.1->-r requirements.txt (line 9)) (1.0.2)\n",
            "Requirement already satisfied: zipp>=0.5 in /usr/local/lib/python3.7/dist-packages (from importlib-metadata>=0.12; python_version < \"3.8\"->pytest==6.0.1->-r requirements.txt (line 3)) (3.4.1)\n",
            "Requirement already satisfied: typing-extensions>=3.6.4; python_version < \"3.8\" in /usr/local/lib/python3.7/dist-packages (from importlib-metadata>=0.12; python_version < \"3.8\"->pytest==6.0.1->-r requirements.txt (line 3)) (3.7.4.3)\n",
            "Requirement already satisfied: pyparsing>=2.0.2 in /usr/local/lib/python3.7/dist-packages (from packaging->pytest==6.0.1->-r requirements.txt (line 3)) (2.4.7)\n",
            "Collecting git+https://github.com/facebookresearch/visdom (from -r requirements.extra.txt (line 3))\n",
            "  Cloning https://github.com/facebookresearch/visdom to /tmp/pip-req-build-gpzwpju1\n",
            "  Running command git clone -q https://github.com/facebookresearch/visdom /tmp/pip-req-build-gpzwpju1\n",
            "Requirement already satisfied (use --upgrade to upgrade): visdom==0.1.8.9 from git+https://github.com/facebookresearch/visdom in /usr/local/lib/python3.7/dist-packages (from -r requirements.extra.txt (line 3))\n",
            "Requirement already satisfied: networkx==2.4 in /usr/local/lib/python3.7/dist-packages (from -r requirements.extra.txt (line 1)) (2.4)\n",
            "Requirement already satisfied: matplotlib==3.3.0 in /usr/local/lib/python3.7/dist-packages (from -r requirements.extra.txt (line 2)) (3.3.0)\n",
            "Requirement already satisfied: pydot==1.4.1 in /usr/local/lib/python3.7/dist-packages (from -r requirements.extra.txt (line 4)) (1.4.1)\n",
            "Requirement already satisfied: numpy>=1.8 in /usr/local/lib/python3.7/dist-packages (from visdom==0.1.8.9->-r requirements.extra.txt (line 3)) (1.19.1)\n",
            "Requirement already satisfied: scipy in /usr/local/lib/python3.7/dist-packages (from visdom==0.1.8.9->-r requirements.extra.txt (line 3)) (1.4.1)\n",
            "Requirement already satisfied: requests in /usr/local/lib/python3.7/dist-packages (from visdom==0.1.8.9->-r requirements.extra.txt (line 3)) (2.23.0)\n",
            "Requirement already satisfied: tornado in /usr/local/lib/python3.7/dist-packages (from visdom==0.1.8.9->-r requirements.extra.txt (line 3)) (5.1.1)\n",
            "Requirement already satisfied: pyzmq in /usr/local/lib/python3.7/dist-packages (from visdom==0.1.8.9->-r requirements.extra.txt (line 3)) (22.0.3)\n",
            "Requirement already satisfied: six in /usr/local/lib/python3.7/dist-packages (from visdom==0.1.8.9->-r requirements.extra.txt (line 3)) (1.15.0)\n",
            "Requirement already satisfied: jsonpatch in /usr/local/lib/python3.7/dist-packages (from visdom==0.1.8.9->-r requirements.extra.txt (line 3)) (1.32)\n",
            "Requirement already satisfied: websocket-client in /usr/local/lib/python3.7/dist-packages (from visdom==0.1.8.9->-r requirements.extra.txt (line 3)) (1.0.1)\n",
            "Requirement already satisfied: pillow in /usr/local/lib/python3.7/dist-packages (from visdom==0.1.8.9->-r requirements.extra.txt (line 3)) (7.1.2)\n",
            "Requirement already satisfied: decorator>=4.3.0 in /usr/local/lib/python3.7/dist-packages (from networkx==2.4->-r requirements.extra.txt (line 1)) (4.4.2)\n",
            "Requirement already satisfied: kiwisolver>=1.0.1 in /usr/local/lib/python3.7/dist-packages (from matplotlib==3.3.0->-r requirements.extra.txt (line 2)) (1.3.1)\n",
            "Requirement already satisfied: python-dateutil>=2.1 in /usr/local/lib/python3.7/dist-packages (from matplotlib==3.3.0->-r requirements.extra.txt (line 2)) (2.8.1)\n",
            "Requirement already satisfied: cycler>=0.10 in /usr/local/lib/python3.7/dist-packages (from matplotlib==3.3.0->-r requirements.extra.txt (line 2)) (0.10.0)\n",
            "Requirement already satisfied: pyparsing!=2.0.4,!=2.1.2,!=2.1.6,>=2.0.3 in /usr/local/lib/python3.7/dist-packages (from matplotlib==3.3.0->-r requirements.extra.txt (line 2)) (2.4.7)\n",
            "Requirement already satisfied: chardet<4,>=3.0.2 in /usr/local/lib/python3.7/dist-packages (from requests->visdom==0.1.8.9->-r requirements.extra.txt (line 3)) (3.0.4)\n",
            "Requirement already satisfied: urllib3!=1.25.0,!=1.25.1,<1.26,>=1.21.1 in /usr/local/lib/python3.7/dist-packages (from requests->visdom==0.1.8.9->-r requirements.extra.txt (line 3)) (1.24.3)\n",
            "Requirement already satisfied: certifi>=2017.4.17 in /usr/local/lib/python3.7/dist-packages (from requests->visdom==0.1.8.9->-r requirements.extra.txt (line 3)) (2020.12.5)\n",
            "Requirement already satisfied: idna<3,>=2.5 in /usr/local/lib/python3.7/dist-packages (from requests->visdom==0.1.8.9->-r requirements.extra.txt (line 3)) (2.10)\n",
            "Requirement already satisfied: jsonpointer>=1.9 in /usr/local/lib/python3.7/dist-packages (from jsonpatch->visdom==0.1.8.9->-r requirements.extra.txt (line 3)) (2.1)\n",
            "Building wheels for collected packages: visdom\n",
            "  Building wheel for visdom (setup.py) ... \u001b[?25l\u001b[?25hdone\n",
            "  Created wheel for visdom: filename=visdom-0.1.8.9-cp37-none-any.whl size=569447 sha256=e53953e19d9ed839cd1e854de267f913135321c00215061534462abaf614bac9\n",
            "  Stored in directory: /tmp/pip-ephem-wheel-cache-afnzmz7v/wheels/55/75/8a/4a32326a97ab43cfc1a7f98f7b007f15816f0c9adf4ff8a243\n",
            "Successfully built visdom\n",
            "Obtaining file:///content/Module-2\n",
            "  Installing build dependencies ... \u001b[?25l\u001b[?25hdone\n",
            "  Getting requirements to build wheel ... \u001b[?25l\u001b[?25hdone\n",
            "  Installing backend dependencies ... \u001b[?25l\u001b[?25hdone\n",
            "    Preparing wheel metadata ... \u001b[?25l\u001b[?25hdone\n",
            "Installing collected packages: minitorch\n",
            "  Found existing installation: minitorch 0.1\n",
            "    Can't uninstall 'minitorch'. No files were found to uninstall.\n",
            "  Running setup.py develop for minitorch\n",
            "Successfully installed minitorch\n"
          ],
          "name": "stdout"
        }
      ]
    },
    {
      "cell_type": "code",
      "metadata": {
        "colab": {
          "base_uri": "https://localhost:8080/"
        },
        "id": "ZyvcPiLijWuk",
        "outputId": "cafb0427-882c-4ef5-dbd3-9761ef9b565b"
      },
      "source": [
        "!cd \"Module-3\" && python -m pip install -r requirements.txt && python -m pip install -r requirements.extra.txt && pip install -Ue ."
      ],
      "execution_count": 9,
      "outputs": [
        {
          "output_type": "stream",
          "text": [
            "Requirement already satisfied: numpy==1.19.1 in /usr/local/lib/python3.7/dist-packages (from -r requirements.txt (line 1)) (1.19.1)\n",
            "Requirement already satisfied: numba==0.49 in /usr/local/lib/python3.7/dist-packages (from -r requirements.txt (line 2)) (0.49.0)\n",
            "Requirement already satisfied: pytest==6.0.1 in /usr/local/lib/python3.7/dist-packages (from -r requirements.txt (line 3)) (6.0.1)\n",
            "Requirement already satisfied: pytest-runner==5.2 in /usr/local/lib/python3.7/dist-packages (from -r requirements.txt (line 4)) (5.2)\n",
            "Requirement already satisfied: hypothesis==4.38 in /usr/local/lib/python3.7/dist-packages (from -r requirements.txt (line 5)) (4.38.0)\n",
            "Requirement already satisfied: flake8==3.8.3 in /usr/local/lib/python3.7/dist-packages (from -r requirements.txt (line 6)) (3.8.3)\n",
            "Requirement already satisfied: black==19.10b0 in /usr/local/lib/python3.7/dist-packages (from -r requirements.txt (line 7)) (19.10b0)\n",
            "Requirement already satisfied: colorama==0.4.3 in /usr/local/lib/python3.7/dist-packages (from -r requirements.txt (line 8)) (0.4.3)\n",
            "Requirement already satisfied: pep8-naming==0.11.1 in /usr/local/lib/python3.7/dist-packages (from -r requirements.txt (line 9)) (0.11.1)\n",
            "Requirement already satisfied: setuptools in /usr/local/lib/python3.7/dist-packages (from numba==0.49->-r requirements.txt (line 2)) (57.0.0)\n",
            "Requirement already satisfied: llvmlite<=0.33.0.dev0,>=0.31.0.dev0 in /usr/local/lib/python3.7/dist-packages (from numba==0.49->-r requirements.txt (line 2)) (0.32.1)\n",
            "Requirement already satisfied: py>=1.8.2 in /usr/local/lib/python3.7/dist-packages (from pytest==6.0.1->-r requirements.txt (line 3)) (1.10.0)\n",
            "Requirement already satisfied: importlib-metadata>=0.12; python_version < \"3.8\" in /usr/local/lib/python3.7/dist-packages (from pytest==6.0.1->-r requirements.txt (line 3)) (4.0.1)\n",
            "Requirement already satisfied: pluggy<1.0,>=0.12 in /usr/local/lib/python3.7/dist-packages (from pytest==6.0.1->-r requirements.txt (line 3)) (0.13.1)\n",
            "Requirement already satisfied: more-itertools>=4.0.0 in /usr/local/lib/python3.7/dist-packages (from pytest==6.0.1->-r requirements.txt (line 3)) (8.7.0)\n",
            "Requirement already satisfied: toml in /usr/local/lib/python3.7/dist-packages (from pytest==6.0.1->-r requirements.txt (line 3)) (0.10.2)\n",
            "Requirement already satisfied: packaging in /usr/local/lib/python3.7/dist-packages (from pytest==6.0.1->-r requirements.txt (line 3)) (20.9)\n",
            "Requirement already satisfied: iniconfig in /usr/local/lib/python3.7/dist-packages (from pytest==6.0.1->-r requirements.txt (line 3)) (1.1.1)\n",
            "Requirement already satisfied: attrs>=17.4.0 in /usr/local/lib/python3.7/dist-packages (from pytest==6.0.1->-r requirements.txt (line 3)) (21.2.0)\n",
            "Requirement already satisfied: mccabe<0.7.0,>=0.6.0 in /usr/local/lib/python3.7/dist-packages (from flake8==3.8.3->-r requirements.txt (line 6)) (0.6.1)\n",
            "Requirement already satisfied: pyflakes<2.3.0,>=2.2.0 in /usr/local/lib/python3.7/dist-packages (from flake8==3.8.3->-r requirements.txt (line 6)) (2.2.0)\n",
            "Requirement already satisfied: pycodestyle<2.7.0,>=2.6.0a1 in /usr/local/lib/python3.7/dist-packages (from flake8==3.8.3->-r requirements.txt (line 6)) (2.6.0)\n",
            "Requirement already satisfied: click>=6.5 in /usr/local/lib/python3.7/dist-packages (from black==19.10b0->-r requirements.txt (line 7)) (7.1.2)\n",
            "Requirement already satisfied: pathspec<1,>=0.6 in /usr/local/lib/python3.7/dist-packages (from black==19.10b0->-r requirements.txt (line 7)) (0.8.1)\n",
            "Requirement already satisfied: appdirs in /usr/local/lib/python3.7/dist-packages (from black==19.10b0->-r requirements.txt (line 7)) (1.4.4)\n",
            "Requirement already satisfied: regex in /usr/local/lib/python3.7/dist-packages (from black==19.10b0->-r requirements.txt (line 7)) (2019.12.20)\n",
            "Requirement already satisfied: typed-ast>=1.4.0 in /usr/local/lib/python3.7/dist-packages (from black==19.10b0->-r requirements.txt (line 7)) (1.4.3)\n",
            "Requirement already satisfied: flake8-polyfill<2,>=1.0.2 in /usr/local/lib/python3.7/dist-packages (from pep8-naming==0.11.1->-r requirements.txt (line 9)) (1.0.2)\n",
            "Requirement already satisfied: typing-extensions>=3.6.4; python_version < \"3.8\" in /usr/local/lib/python3.7/dist-packages (from importlib-metadata>=0.12; python_version < \"3.8\"->pytest==6.0.1->-r requirements.txt (line 3)) (3.7.4.3)\n",
            "Requirement already satisfied: zipp>=0.5 in /usr/local/lib/python3.7/dist-packages (from importlib-metadata>=0.12; python_version < \"3.8\"->pytest==6.0.1->-r requirements.txt (line 3)) (3.4.1)\n",
            "Requirement already satisfied: pyparsing>=2.0.2 in /usr/local/lib/python3.7/dist-packages (from packaging->pytest==6.0.1->-r requirements.txt (line 3)) (2.4.7)\n",
            "Collecting git+https://github.com/facebookresearch/visdom (from -r requirements.extra.txt (line 3))\n",
            "  Cloning https://github.com/facebookresearch/visdom to /tmp/pip-req-build-xramhz18\n",
            "  Running command git clone -q https://github.com/facebookresearch/visdom /tmp/pip-req-build-xramhz18\n",
            "Requirement already satisfied (use --upgrade to upgrade): visdom==0.1.8.9 from git+https://github.com/facebookresearch/visdom in /usr/local/lib/python3.7/dist-packages (from -r requirements.extra.txt (line 3))\n",
            "Requirement already satisfied: networkx==2.4 in /usr/local/lib/python3.7/dist-packages (from -r requirements.extra.txt (line 1)) (2.4)\n",
            "Requirement already satisfied: matplotlib==3.3.0 in /usr/local/lib/python3.7/dist-packages (from -r requirements.extra.txt (line 2)) (3.3.0)\n",
            "Requirement already satisfied: pydot==1.4.1 in /usr/local/lib/python3.7/dist-packages (from -r requirements.extra.txt (line 4)) (1.4.1)\n",
            "Requirement already satisfied: numpy>=1.8 in /usr/local/lib/python3.7/dist-packages (from visdom==0.1.8.9->-r requirements.extra.txt (line 3)) (1.19.1)\n",
            "Requirement already satisfied: scipy in /usr/local/lib/python3.7/dist-packages (from visdom==0.1.8.9->-r requirements.extra.txt (line 3)) (1.4.1)\n",
            "Requirement already satisfied: requests in /usr/local/lib/python3.7/dist-packages (from visdom==0.1.8.9->-r requirements.extra.txt (line 3)) (2.23.0)\n",
            "Requirement already satisfied: tornado in /usr/local/lib/python3.7/dist-packages (from visdom==0.1.8.9->-r requirements.extra.txt (line 3)) (5.1.1)\n",
            "Requirement already satisfied: pyzmq in /usr/local/lib/python3.7/dist-packages (from visdom==0.1.8.9->-r requirements.extra.txt (line 3)) (22.0.3)\n",
            "Requirement already satisfied: six in /usr/local/lib/python3.7/dist-packages (from visdom==0.1.8.9->-r requirements.extra.txt (line 3)) (1.15.0)\n",
            "Requirement already satisfied: jsonpatch in /usr/local/lib/python3.7/dist-packages (from visdom==0.1.8.9->-r requirements.extra.txt (line 3)) (1.32)\n",
            "Requirement already satisfied: websocket-client in /usr/local/lib/python3.7/dist-packages (from visdom==0.1.8.9->-r requirements.extra.txt (line 3)) (1.0.1)\n",
            "Requirement already satisfied: pillow in /usr/local/lib/python3.7/dist-packages (from visdom==0.1.8.9->-r requirements.extra.txt (line 3)) (7.1.2)\n",
            "Requirement already satisfied: decorator>=4.3.0 in /usr/local/lib/python3.7/dist-packages (from networkx==2.4->-r requirements.extra.txt (line 1)) (4.4.2)\n",
            "Requirement already satisfied: cycler>=0.10 in /usr/local/lib/python3.7/dist-packages (from matplotlib==3.3.0->-r requirements.extra.txt (line 2)) (0.10.0)\n",
            "Requirement already satisfied: pyparsing!=2.0.4,!=2.1.2,!=2.1.6,>=2.0.3 in /usr/local/lib/python3.7/dist-packages (from matplotlib==3.3.0->-r requirements.extra.txt (line 2)) (2.4.7)\n",
            "Requirement already satisfied: python-dateutil>=2.1 in /usr/local/lib/python3.7/dist-packages (from matplotlib==3.3.0->-r requirements.extra.txt (line 2)) (2.8.1)\n",
            "Requirement already satisfied: kiwisolver>=1.0.1 in /usr/local/lib/python3.7/dist-packages (from matplotlib==3.3.0->-r requirements.extra.txt (line 2)) (1.3.1)\n",
            "Requirement already satisfied: chardet<4,>=3.0.2 in /usr/local/lib/python3.7/dist-packages (from requests->visdom==0.1.8.9->-r requirements.extra.txt (line 3)) (3.0.4)\n",
            "Requirement already satisfied: certifi>=2017.4.17 in /usr/local/lib/python3.7/dist-packages (from requests->visdom==0.1.8.9->-r requirements.extra.txt (line 3)) (2020.12.5)\n",
            "Requirement already satisfied: idna<3,>=2.5 in /usr/local/lib/python3.7/dist-packages (from requests->visdom==0.1.8.9->-r requirements.extra.txt (line 3)) (2.10)\n",
            "Requirement already satisfied: urllib3!=1.25.0,!=1.25.1,<1.26,>=1.21.1 in /usr/local/lib/python3.7/dist-packages (from requests->visdom==0.1.8.9->-r requirements.extra.txt (line 3)) (1.24.3)\n",
            "Requirement already satisfied: jsonpointer>=1.9 in /usr/local/lib/python3.7/dist-packages (from jsonpatch->visdom==0.1.8.9->-r requirements.extra.txt (line 3)) (2.1)\n",
            "Building wheels for collected packages: visdom\n",
            "  Building wheel for visdom (setup.py) ... \u001b[?25l\u001b[?25hdone\n",
            "  Created wheel for visdom: filename=visdom-0.1.8.9-cp37-none-any.whl size=569447 sha256=06c2a7ea4a6c683e44448cbe321707365f935358fb43685c11dd0ab4086382eb\n",
            "  Stored in directory: /tmp/pip-ephem-wheel-cache-llkguo5k/wheels/55/75/8a/4a32326a97ab43cfc1a7f98f7b007f15816f0c9adf4ff8a243\n",
            "Successfully built visdom\n",
            "Obtaining file:///content/Module-3\n",
            "  Installing build dependencies ... \u001b[?25l\u001b[?25hdone\n",
            "  Getting requirements to build wheel ... \u001b[?25l\u001b[?25hdone\n",
            "  Installing backend dependencies ... \u001b[?25l\u001b[?25hdone\n",
            "    Preparing wheel metadata ... \u001b[?25l\u001b[?25hdone\n",
            "Installing collected packages: minitorch\n",
            "  Found existing installation: minitorch 0.1\n",
            "    Can't uninstall 'minitorch'. No files were found to uninstall.\n",
            "  Running setup.py develop for minitorch\n",
            "Successfully installed minitorch\n"
          ],
          "name": "stdout"
        }
      ]
    },
    {
      "cell_type": "code",
      "metadata": {
        "colab": {
          "base_uri": "https://localhost:8080/"
        },
        "id": "3suPu2D7py4j",
        "outputId": "b82137ac-b69e-434d-9bc0-2b1a6ed35ae0"
      },
      "source": [
        "!cd \"Module-4\" && python -m pip install -r requirements.txt && python -m pip install -r requirements.extra.txt && pip install -Ue ."
      ],
      "execution_count": 10,
      "outputs": [
        {
          "output_type": "stream",
          "text": [
            "Requirement already satisfied: numpy==1.19.1 in /usr/local/lib/python3.7/dist-packages (from -r requirements.txt (line 1)) (1.19.1)\n",
            "Requirement already satisfied: numba==0.49 in /usr/local/lib/python3.7/dist-packages (from -r requirements.txt (line 2)) (0.49.0)\n",
            "Requirement already satisfied: pytest==6.0.1 in /usr/local/lib/python3.7/dist-packages (from -r requirements.txt (line 3)) (6.0.1)\n",
            "Requirement already satisfied: pytest-runner==5.2 in /usr/local/lib/python3.7/dist-packages (from -r requirements.txt (line 4)) (5.2)\n",
            "Requirement already satisfied: hypothesis==4.38 in /usr/local/lib/python3.7/dist-packages (from -r requirements.txt (line 5)) (4.38.0)\n",
            "Requirement already satisfied: flake8==3.8.3 in /usr/local/lib/python3.7/dist-packages (from -r requirements.txt (line 6)) (3.8.3)\n",
            "Requirement already satisfied: black==19.10b0 in /usr/local/lib/python3.7/dist-packages (from -r requirements.txt (line 7)) (19.10b0)\n",
            "Requirement already satisfied: colorama==0.4.3 in /usr/local/lib/python3.7/dist-packages (from -r requirements.txt (line 8)) (0.4.3)\n",
            "Requirement already satisfied: pep8-naming==0.11.1 in /usr/local/lib/python3.7/dist-packages (from -r requirements.txt (line 9)) (0.11.1)\n",
            "Requirement already satisfied: llvmlite<=0.33.0.dev0,>=0.31.0.dev0 in /usr/local/lib/python3.7/dist-packages (from numba==0.49->-r requirements.txt (line 2)) (0.32.1)\n",
            "Requirement already satisfied: setuptools in /usr/local/lib/python3.7/dist-packages (from numba==0.49->-r requirements.txt (line 2)) (57.0.0)\n",
            "Requirement already satisfied: more-itertools>=4.0.0 in /usr/local/lib/python3.7/dist-packages (from pytest==6.0.1->-r requirements.txt (line 3)) (8.7.0)\n",
            "Requirement already satisfied: pluggy<1.0,>=0.12 in /usr/local/lib/python3.7/dist-packages (from pytest==6.0.1->-r requirements.txt (line 3)) (0.13.1)\n",
            "Requirement already satisfied: iniconfig in /usr/local/lib/python3.7/dist-packages (from pytest==6.0.1->-r requirements.txt (line 3)) (1.1.1)\n",
            "Requirement already satisfied: py>=1.8.2 in /usr/local/lib/python3.7/dist-packages (from pytest==6.0.1->-r requirements.txt (line 3)) (1.10.0)\n",
            "Requirement already satisfied: importlib-metadata>=0.12; python_version < \"3.8\" in /usr/local/lib/python3.7/dist-packages (from pytest==6.0.1->-r requirements.txt (line 3)) (4.0.1)\n",
            "Requirement already satisfied: toml in /usr/local/lib/python3.7/dist-packages (from pytest==6.0.1->-r requirements.txt (line 3)) (0.10.2)\n",
            "Requirement already satisfied: attrs>=17.4.0 in /usr/local/lib/python3.7/dist-packages (from pytest==6.0.1->-r requirements.txt (line 3)) (21.2.0)\n",
            "Requirement already satisfied: packaging in /usr/local/lib/python3.7/dist-packages (from pytest==6.0.1->-r requirements.txt (line 3)) (20.9)\n",
            "Requirement already satisfied: pyflakes<2.3.0,>=2.2.0 in /usr/local/lib/python3.7/dist-packages (from flake8==3.8.3->-r requirements.txt (line 6)) (2.2.0)\n",
            "Requirement already satisfied: pycodestyle<2.7.0,>=2.6.0a1 in /usr/local/lib/python3.7/dist-packages (from flake8==3.8.3->-r requirements.txt (line 6)) (2.6.0)\n",
            "Requirement already satisfied: mccabe<0.7.0,>=0.6.0 in /usr/local/lib/python3.7/dist-packages (from flake8==3.8.3->-r requirements.txt (line 6)) (0.6.1)\n",
            "Requirement already satisfied: appdirs in /usr/local/lib/python3.7/dist-packages (from black==19.10b0->-r requirements.txt (line 7)) (1.4.4)\n",
            "Requirement already satisfied: pathspec<1,>=0.6 in /usr/local/lib/python3.7/dist-packages (from black==19.10b0->-r requirements.txt (line 7)) (0.8.1)\n",
            "Requirement already satisfied: typed-ast>=1.4.0 in /usr/local/lib/python3.7/dist-packages (from black==19.10b0->-r requirements.txt (line 7)) (1.4.3)\n",
            "Requirement already satisfied: click>=6.5 in /usr/local/lib/python3.7/dist-packages (from black==19.10b0->-r requirements.txt (line 7)) (7.1.2)\n",
            "Requirement already satisfied: regex in /usr/local/lib/python3.7/dist-packages (from black==19.10b0->-r requirements.txt (line 7)) (2019.12.20)\n",
            "Requirement already satisfied: flake8-polyfill<2,>=1.0.2 in /usr/local/lib/python3.7/dist-packages (from pep8-naming==0.11.1->-r requirements.txt (line 9)) (1.0.2)\n",
            "Requirement already satisfied: typing-extensions>=3.6.4; python_version < \"3.8\" in /usr/local/lib/python3.7/dist-packages (from importlib-metadata>=0.12; python_version < \"3.8\"->pytest==6.0.1->-r requirements.txt (line 3)) (3.7.4.3)\n",
            "Requirement already satisfied: zipp>=0.5 in /usr/local/lib/python3.7/dist-packages (from importlib-metadata>=0.12; python_version < \"3.8\"->pytest==6.0.1->-r requirements.txt (line 3)) (3.4.1)\n",
            "Requirement already satisfied: pyparsing>=2.0.2 in /usr/local/lib/python3.7/dist-packages (from packaging->pytest==6.0.1->-r requirements.txt (line 3)) (2.4.7)\n",
            "Collecting git+https://github.com/facebookresearch/visdom (from -r requirements.extra.txt (line 3))\n",
            "  Cloning https://github.com/facebookresearch/visdom to /tmp/pip-req-build-6y4irqa8\n",
            "  Running command git clone -q https://github.com/facebookresearch/visdom /tmp/pip-req-build-6y4irqa8\n",
            "Requirement already satisfied (use --upgrade to upgrade): visdom==0.1.8.9 from git+https://github.com/facebookresearch/visdom in /usr/local/lib/python3.7/dist-packages (from -r requirements.extra.txt (line 3))\n",
            "Requirement already satisfied: networkx==2.4 in /usr/local/lib/python3.7/dist-packages (from -r requirements.extra.txt (line 1)) (2.4)\n",
            "Requirement already satisfied: matplotlib==3.3.0 in /usr/local/lib/python3.7/dist-packages (from -r requirements.extra.txt (line 2)) (3.3.0)\n",
            "Requirement already satisfied: pydot==1.4.1 in /usr/local/lib/python3.7/dist-packages (from -r requirements.extra.txt (line 4)) (1.4.1)\n",
            "Requirement already satisfied: numpy>=1.8 in /usr/local/lib/python3.7/dist-packages (from visdom==0.1.8.9->-r requirements.extra.txt (line 3)) (1.19.1)\n",
            "Requirement already satisfied: scipy in /usr/local/lib/python3.7/dist-packages (from visdom==0.1.8.9->-r requirements.extra.txt (line 3)) (1.4.1)\n",
            "Requirement already satisfied: requests in /usr/local/lib/python3.7/dist-packages (from visdom==0.1.8.9->-r requirements.extra.txt (line 3)) (2.23.0)\n",
            "Requirement already satisfied: tornado in /usr/local/lib/python3.7/dist-packages (from visdom==0.1.8.9->-r requirements.extra.txt (line 3)) (5.1.1)\n",
            "Requirement already satisfied: pyzmq in /usr/local/lib/python3.7/dist-packages (from visdom==0.1.8.9->-r requirements.extra.txt (line 3)) (22.0.3)\n",
            "Requirement already satisfied: six in /usr/local/lib/python3.7/dist-packages (from visdom==0.1.8.9->-r requirements.extra.txt (line 3)) (1.15.0)\n",
            "Requirement already satisfied: jsonpatch in /usr/local/lib/python3.7/dist-packages (from visdom==0.1.8.9->-r requirements.extra.txt (line 3)) (1.32)\n",
            "Requirement already satisfied: websocket-client in /usr/local/lib/python3.7/dist-packages (from visdom==0.1.8.9->-r requirements.extra.txt (line 3)) (1.0.1)\n",
            "Requirement already satisfied: pillow in /usr/local/lib/python3.7/dist-packages (from visdom==0.1.8.9->-r requirements.extra.txt (line 3)) (7.1.2)\n",
            "Requirement already satisfied: decorator>=4.3.0 in /usr/local/lib/python3.7/dist-packages (from networkx==2.4->-r requirements.extra.txt (line 1)) (4.4.2)\n",
            "Requirement already satisfied: kiwisolver>=1.0.1 in /usr/local/lib/python3.7/dist-packages (from matplotlib==3.3.0->-r requirements.extra.txt (line 2)) (1.3.1)\n",
            "Requirement already satisfied: cycler>=0.10 in /usr/local/lib/python3.7/dist-packages (from matplotlib==3.3.0->-r requirements.extra.txt (line 2)) (0.10.0)\n",
            "Requirement already satisfied: python-dateutil>=2.1 in /usr/local/lib/python3.7/dist-packages (from matplotlib==3.3.0->-r requirements.extra.txt (line 2)) (2.8.1)\n",
            "Requirement already satisfied: pyparsing!=2.0.4,!=2.1.2,!=2.1.6,>=2.0.3 in /usr/local/lib/python3.7/dist-packages (from matplotlib==3.3.0->-r requirements.extra.txt (line 2)) (2.4.7)\n",
            "Requirement already satisfied: urllib3!=1.25.0,!=1.25.1,<1.26,>=1.21.1 in /usr/local/lib/python3.7/dist-packages (from requests->visdom==0.1.8.9->-r requirements.extra.txt (line 3)) (1.24.3)\n",
            "Requirement already satisfied: certifi>=2017.4.17 in /usr/local/lib/python3.7/dist-packages (from requests->visdom==0.1.8.9->-r requirements.extra.txt (line 3)) (2020.12.5)\n",
            "Requirement already satisfied: chardet<4,>=3.0.2 in /usr/local/lib/python3.7/dist-packages (from requests->visdom==0.1.8.9->-r requirements.extra.txt (line 3)) (3.0.4)\n",
            "Requirement already satisfied: idna<3,>=2.5 in /usr/local/lib/python3.7/dist-packages (from requests->visdom==0.1.8.9->-r requirements.extra.txt (line 3)) (2.10)\n",
            "Requirement already satisfied: jsonpointer>=1.9 in /usr/local/lib/python3.7/dist-packages (from jsonpatch->visdom==0.1.8.9->-r requirements.extra.txt (line 3)) (2.1)\n",
            "Building wheels for collected packages: visdom\n",
            "  Building wheel for visdom (setup.py) ... \u001b[?25l\u001b[?25hdone\n",
            "  Created wheel for visdom: filename=visdom-0.1.8.9-cp37-none-any.whl size=569447 sha256=4a8e1bbfdf0778d7f18e6c2097886be8ac147c362be458c646a01f2399489859\n",
            "  Stored in directory: /tmp/pip-ephem-wheel-cache-j3rpm2bg/wheels/55/75/8a/4a32326a97ab43cfc1a7f98f7b007f15816f0c9adf4ff8a243\n",
            "Successfully built visdom\n",
            "Obtaining file:///content/Module-4\n",
            "  Installing build dependencies ... \u001b[?25l\u001b[?25hdone\n",
            "  Getting requirements to build wheel ... \u001b[?25l\u001b[?25hdone\n",
            "  Installing backend dependencies ... \u001b[?25l\u001b[?25hdone\n",
            "    Preparing wheel metadata ... \u001b[?25l\u001b[?25hdone\n",
            "Installing collected packages: minitorch\n",
            "  Found existing installation: minitorch 0.1\n",
            "    Can't uninstall 'minitorch'. No files were found to uninstall.\n",
            "  Running setup.py develop for minitorch\n",
            "Successfully installed minitorch\n"
          ],
          "name": "stdout"
        }
      ]
    },
    {
      "cell_type": "markdown",
      "metadata": {
        "id": "jLRN2p8huuwp"
      },
      "source": [
        "###Instalando python-mnist"
      ]
    },
    {
      "cell_type": "code",
      "metadata": {
        "colab": {
          "base_uri": "https://localhost:8080/"
        },
        "id": "YqfZx-nUu1kb",
        "outputId": "63f951bb-79fd-4dab-c565-d4bbfc2c4e2a"
      },
      "source": [
        "!pip install python-mnist"
      ],
      "execution_count": 11,
      "outputs": [
        {
          "output_type": "stream",
          "text": [
            "Collecting python-mnist\n",
            "  Downloading https://files.pythonhosted.org/packages/64/f0/6086b84427c3bf156ec0b3c2f9dfc1d770b35f942b9ed8a64f5229776a80/python_mnist-0.7-py2.py3-none-any.whl\n",
            "Installing collected packages: python-mnist\n",
            "Successfully installed python-mnist-0.7\n"
          ],
          "name": "stdout"
        }
      ]
    },
    {
      "cell_type": "markdown",
      "metadata": {
        "id": "_3HpRB8fuOBc"
      },
      "source": [
        "###Comprobando la instalación"
      ]
    },
    {
      "cell_type": "code",
      "metadata": {
        "colab": {
          "base_uri": "https://localhost:8080/"
        },
        "id": "ztP9uKnIqGDb",
        "outputId": "9221d6c0-e654-404d-ff80-459c86ec5637"
      },
      "source": [
        "!pip list"
      ],
      "execution_count": 12,
      "outputs": [
        {
          "output_type": "stream",
          "text": [
            "Package                       Version             Location         \n",
            "----------------------------- ------------------- -----------------\n",
            "absl-py                       0.12.0              \n",
            "alabaster                     0.7.12              \n",
            "albumentations                0.1.12              \n",
            "altair                        4.1.0               \n",
            "appdirs                       1.4.4               \n",
            "argon2-cffi                   20.1.0              \n",
            "arviz                         0.11.2              \n",
            "astor                         0.8.1               \n",
            "astropy                       4.2.1               \n",
            "astunparse                    1.6.3               \n",
            "async-generator               1.10                \n",
            "atari-py                      0.2.9               \n",
            "atomicwrites                  1.4.0               \n",
            "attrs                         21.2.0              \n",
            "audioread                     2.1.9               \n",
            "autograd                      1.3                 \n",
            "Babel                         2.9.1               \n",
            "backcall                      0.2.0               \n",
            "beautifulsoup4                4.6.3               \n",
            "black                         19.10b0             \n",
            "bleach                        3.3.0               \n",
            "blis                          0.4.1               \n",
            "bokeh                         2.3.2               \n",
            "Bottleneck                    1.3.2               \n",
            "branca                        0.4.2               \n",
            "bs4                           0.0.1               \n",
            "CacheControl                  0.12.6              \n",
            "cached-property               1.5.2               \n",
            "cachetools                    4.2.2               \n",
            "catalogue                     1.0.0               \n",
            "certifi                       2020.12.5           \n",
            "cffi                          1.14.5              \n",
            "cftime                        1.5.0               \n",
            "chainer                       7.4.0               \n",
            "chardet                       3.0.4               \n",
            "click                         7.1.2               \n",
            "cloudpickle                   1.3.0               \n",
            "cmake                         3.12.0              \n",
            "cmdstanpy                     0.9.5               \n",
            "colorama                      0.4.3               \n",
            "colorcet                      2.0.6               \n",
            "colorlover                    0.3.0               \n",
            "community                     1.0.0b1             \n",
            "contextlib2                   0.5.5               \n",
            "convertdate                   2.3.2               \n",
            "coverage                      3.7.1               \n",
            "coveralls                     0.5                 \n",
            "crcmod                        1.7                 \n",
            "cufflinks                     0.17.3              \n",
            "cvxopt                        1.2.6               \n",
            "cvxpy                         1.0.31              \n",
            "cycler                        0.10.0              \n",
            "cymem                         2.0.5               \n",
            "Cython                        0.29.23             \n",
            "daft                          0.0.4               \n",
            "dask                          2.12.0              \n",
            "datascience                   0.10.6              \n",
            "debugpy                       1.0.0               \n",
            "decorator                     4.4.2               \n",
            "defusedxml                    0.7.1               \n",
            "descartes                     1.1.0               \n",
            "dill                          0.3.3               \n",
            "distributed                   1.25.3              \n",
            "dlib                          19.18.0             \n",
            "dm-tree                       0.1.6               \n",
            "docopt                        0.6.2               \n",
            "docutils                      0.17.1              \n",
            "dopamine-rl                   1.0.5               \n",
            "earthengine-api               0.1.266             \n",
            "easydict                      1.9                 \n",
            "ecos                          2.0.7.post1         \n",
            "editdistance                  0.5.3               \n",
            "en-core-web-sm                2.2.5               \n",
            "entrypoints                   0.3                 \n",
            "ephem                         3.7.7.1             \n",
            "et-xmlfile                    1.1.0               \n",
            "fa2                           0.3.5               \n",
            "fastai                        1.0.61              \n",
            "fastdtw                       0.3.4               \n",
            "fastprogress                  1.0.0               \n",
            "fastrlock                     0.6                 \n",
            "fbprophet                     0.7.1               \n",
            "feather-format                0.4.1               \n",
            "filelock                      3.0.12              \n",
            "firebase-admin                4.4.0               \n",
            "fix-yahoo-finance             0.0.22              \n",
            "flake8                        3.8.3               \n",
            "flake8-polyfill               1.0.2               \n",
            "Flask                         1.1.4               \n",
            "flatbuffers                   1.12                \n",
            "folium                        0.8.3               \n",
            "future                        0.16.0              \n",
            "gast                          0.4.0               \n",
            "GDAL                          2.2.2               \n",
            "gdown                         3.6.4               \n",
            "gensim                        3.6.0               \n",
            "geographiclib                 1.50                \n",
            "geopy                         1.17.0              \n",
            "gin-config                    0.4.0               \n",
            "glob2                         0.7                 \n",
            "google                        2.0.3               \n",
            "google-api-core               1.26.3              \n",
            "google-api-python-client      1.12.8              \n",
            "google-auth                   1.30.0              \n",
            "google-auth-httplib2          0.0.4               \n",
            "google-auth-oauthlib          0.4.4               \n",
            "google-cloud-bigquery         1.21.0              \n",
            "google-cloud-bigquery-storage 1.1.0               \n",
            "google-cloud-core             1.0.3               \n",
            "google-cloud-datastore        1.8.0               \n",
            "google-cloud-firestore        1.7.0               \n",
            "google-cloud-language         1.2.0               \n",
            "google-cloud-storage          1.18.1              \n",
            "google-cloud-translate        1.5.0               \n",
            "google-colab                  1.0.0               \n",
            "google-pasta                  0.2.0               \n",
            "google-resumable-media        0.4.1               \n",
            "googleapis-common-protos      1.53.0              \n",
            "googledrivedownloader         0.4                 \n",
            "graphviz                      0.10.1              \n",
            "greenlet                      1.1.0               \n",
            "grpcio                        1.34.1              \n",
            "gspread                       3.0.1               \n",
            "gspread-dataframe             3.0.8               \n",
            "gym                           0.17.3              \n",
            "h5py                          3.1.0               \n",
            "HeapDict                      1.0.1               \n",
            "hijri-converter               2.1.1               \n",
            "holidays                      0.10.5.2            \n",
            "holoviews                     1.14.3              \n",
            "html5lib                      1.0.1               \n",
            "httpimport                    0.5.18              \n",
            "httplib2                      0.17.4              \n",
            "httplib2shim                  0.0.3               \n",
            "humanize                      0.5.1               \n",
            "hyperopt                      0.1.2               \n",
            "hypothesis                    4.38.0              \n",
            "ideep4py                      2.0.0.post3         \n",
            "idna                          2.10                \n",
            "imageio                       2.4.1               \n",
            "imagesize                     1.2.0               \n",
            "imbalanced-learn              0.4.3               \n",
            "imblearn                      0.0                 \n",
            "imgaug                        0.2.9               \n",
            "importlib-metadata            4.0.1               \n",
            "importlib-resources           5.1.3               \n",
            "imutils                       0.5.4               \n",
            "inflect                       2.1.0               \n",
            "iniconfig                     1.1.1               \n",
            "install                       1.3.4               \n",
            "intel-openmp                  2021.2.0            \n",
            "intervaltree                  2.1.0               \n",
            "ipykernel                     4.10.1              \n",
            "ipython                       5.5.0               \n",
            "ipython-genutils              0.2.0               \n",
            "ipython-sql                   0.3.9               \n",
            "ipywidgets                    7.6.3               \n",
            "itsdangerous                  1.1.0               \n",
            "jax                           0.2.13              \n",
            "jaxlib                        0.1.66+cuda110      \n",
            "jdcal                         1.4.1               \n",
            "jedi                          0.18.0              \n",
            "jieba                         0.42.1              \n",
            "Jinja2                        2.11.3              \n",
            "joblib                        1.0.1               \n",
            "jpeg4py                       0.1.4               \n",
            "jsonpatch                     1.32                \n",
            "jsonpointer                   2.1                 \n",
            "jsonschema                    2.6.0               \n",
            "jupyter                       1.0.0               \n",
            "jupyter-client                5.3.5               \n",
            "jupyter-console               5.2.0               \n",
            "jupyter-core                  4.7.1               \n",
            "jupyterlab-pygments           0.1.2               \n",
            "jupyterlab-widgets            1.0.0               \n",
            "kaggle                        1.5.12              \n",
            "kapre                         0.3.5               \n",
            "Keras                         2.4.3               \n",
            "keras-nightly                 2.5.0.dev2021032900 \n",
            "Keras-Preprocessing           1.1.2               \n",
            "keras-vis                     0.4.1               \n",
            "kiwisolver                    1.3.1               \n",
            "korean-lunar-calendar         0.2.1               \n",
            "librosa                       0.8.0               \n",
            "lightgbm                      2.2.3               \n",
            "llvmlite                      0.32.1              \n",
            "lmdb                          0.99                \n",
            "LunarCalendar                 0.0.9               \n",
            "lxml                          4.2.6               \n",
            "Markdown                      3.3.4               \n",
            "MarkupSafe                    2.0.1               \n",
            "matplotlib                    3.3.0               \n",
            "matplotlib-inline             0.1.2               \n",
            "matplotlib-venn               0.11.6              \n",
            "mccabe                        0.6.1               \n",
            "minitorch                     0.1                 /content/Module-4\n",
            "missingno                     0.4.2               \n",
            "mistune                       0.8.4               \n",
            "mizani                        0.6.0               \n",
            "mkl                           2019.0              \n",
            "mlxtend                       0.14.0              \n",
            "more-itertools                8.7.0               \n",
            "moviepy                       0.2.3.5             \n",
            "mpmath                        1.2.1               \n",
            "msgpack                       1.0.2               \n",
            "multiprocess                  0.70.11.1           \n",
            "multitasking                  0.0.9               \n",
            "murmurhash                    1.0.5               \n",
            "music21                       5.5.0               \n",
            "natsort                       5.5.0               \n",
            "nbclient                      0.5.3               \n",
            "nbconvert                     5.6.1               \n",
            "nbformat                      5.1.3               \n",
            "nest-asyncio                  1.5.1               \n",
            "netCDF4                       1.5.6               \n",
            "networkx                      2.4                 \n",
            "nibabel                       3.0.2               \n",
            "nltk                          3.2.5               \n",
            "notebook                      5.3.1               \n",
            "numba                         0.49.0              \n",
            "numexpr                       2.7.3               \n",
            "numpy                         1.19.1              \n",
            "nvidia-ml-py3                 7.352.0             \n",
            "oauth2client                  4.1.3               \n",
            "oauthlib                      3.1.0               \n",
            "okgrade                       0.4.3               \n",
            "opencv-contrib-python         4.1.2.30            \n",
            "opencv-python                 4.1.2.30            \n",
            "openpyxl                      2.5.9               \n",
            "opt-einsum                    3.3.0               \n",
            "osqp                          0.6.2.post0         \n",
            "packaging                     20.9                \n",
            "palettable                    3.3.0               \n",
            "pandas                        1.1.5               \n",
            "pandas-datareader             0.9.0               \n",
            "pandas-gbq                    0.13.3              \n",
            "pandas-profiling              1.4.1               \n",
            "pandocfilters                 1.4.3               \n",
            "panel                         0.11.3              \n",
            "param                         1.10.1              \n",
            "parso                         0.8.2               \n",
            "pathlib                       1.0.1               \n",
            "pathspec                      0.8.1               \n",
            "patsy                         0.5.1               \n",
            "pep8-naming                   0.11.1              \n",
            "pexpect                       4.8.0               \n",
            "pickleshare                   0.7.5               \n",
            "Pillow                        7.1.2               \n",
            "pip                           19.3.1              \n",
            "pip-tools                     4.5.1               \n",
            "plac                          1.1.3               \n",
            "plotly                        4.4.1               \n",
            "plotnine                      0.6.0               \n",
            "pluggy                        0.13.1              \n",
            "pooch                         1.3.0               \n",
            "portpicker                    1.3.9               \n",
            "prefetch-generator            1.0.1               \n",
            "preshed                       3.0.5               \n",
            "prettytable                   2.1.0               \n",
            "progressbar2                  3.38.0              \n",
            "prometheus-client             0.10.1              \n",
            "promise                       2.3                 \n",
            "prompt-toolkit                1.0.18              \n",
            "protobuf                      3.12.4              \n",
            "psutil                        5.4.8               \n",
            "psycopg2                      2.7.6.1             \n",
            "ptyprocess                    0.7.0               \n",
            "py                            1.10.0              \n",
            "pyarrow                       3.0.0               \n",
            "pyasn1                        0.4.8               \n",
            "pyasn1-modules                0.2.8               \n",
            "pycocotools                   2.0.2               \n",
            "pycodestyle                   2.6.0               \n",
            "pycparser                     2.20                \n",
            "pyct                          0.4.8               \n",
            "pydata-google-auth            1.2.0               \n",
            "pydot                         1.4.1               \n",
            "pydot-ng                      2.0.0               \n",
            "pydotplus                     2.0.2               \n",
            "PyDrive                       1.3.1               \n",
            "pyemd                         0.5.1               \n",
            "pyerfa                        2.0.0               \n",
            "pyflakes                      2.2.0               \n",
            "pyglet                        1.5.0               \n",
            "Pygments                      2.6.1               \n",
            "pygobject                     3.26.1              \n",
            "pymc3                         3.11.2              \n",
            "PyMeeus                       0.5.11              \n",
            "pymongo                       3.11.4              \n",
            "pymystem3                     0.2.0               \n",
            "PyOpenGL                      3.1.5               \n",
            "pyparsing                     2.4.7               \n",
            "pyrsistent                    0.17.3              \n",
            "pysndfile                     1.3.8               \n",
            "PySocks                       1.7.1               \n",
            "pystan                        2.19.1.1            \n",
            "pytest                        6.0.1               \n",
            "pytest-runner                 5.2                 \n",
            "python-apt                    0.0.0               \n",
            "python-chess                  0.23.11             \n",
            "python-dateutil               2.8.1               \n",
            "python-louvain                0.15                \n",
            "python-mnist                  0.7                 \n",
            "python-slugify                5.0.2               \n",
            "python-utils                  2.5.6               \n",
            "pytz                          2018.9              \n",
            "pyviz-comms                   2.0.1               \n",
            "PyWavelets                    1.1.1               \n",
            "PyYAML                        3.13                \n",
            "pyzmq                         22.0.3              \n",
            "qdldl                         0.1.5.post0         \n",
            "qtconsole                     5.1.0               \n",
            "QtPy                          1.9.0               \n",
            "regex                         2019.12.20          \n",
            "requests                      2.23.0              \n",
            "requests-oauthlib             1.3.0               \n",
            "resampy                       0.2.2               \n",
            "retrying                      1.3.3               \n",
            "rpy2                          3.4.4               \n",
            "rsa                           4.7.2               \n",
            "scikit-image                  0.16.2              \n",
            "scikit-learn                  0.22.2.post1        \n",
            "scipy                         1.4.1               \n",
            "screen-resolution-extra       0.0.0               \n",
            "scs                           2.1.3               \n",
            "seaborn                       0.11.1              \n",
            "semver                        2.13.0              \n",
            "Send2Trash                    1.5.0               \n",
            "setuptools                    57.0.0              \n",
            "setuptools-git                1.2                 \n",
            "Shapely                       1.7.1               \n",
            "simplegeneric                 0.8.1               \n",
            "six                           1.15.0              \n",
            "sklearn                       0.0                 \n",
            "sklearn-pandas                1.8.0               \n",
            "smart-open                    5.0.0               \n",
            "snowballstemmer               2.1.0               \n",
            "sortedcontainers              2.4.0               \n",
            "SoundFile                     0.10.3.post1        \n",
            "spacy                         2.2.4               \n",
            "Sphinx                        1.8.5               \n",
            "sphinxcontrib-serializinghtml 1.1.4               \n",
            "sphinxcontrib-websupport      1.2.4               \n",
            "SQLAlchemy                    1.4.15              \n",
            "sqlparse                      0.4.1               \n",
            "srsly                         1.0.5               \n",
            "statsmodels                   0.10.2              \n",
            "sympy                         1.7.1               \n",
            "tables                        3.4.4               \n",
            "tabulate                      0.8.9               \n",
            "tblib                         1.7.0               \n",
            "tensorboard                   2.5.0               \n",
            "tensorboard-data-server       0.6.1               \n",
            "tensorboard-plugin-wit        1.8.0               \n",
            "tensorflow                    2.5.0               \n",
            "tensorflow-datasets           4.0.1               \n",
            "tensorflow-estimator          2.5.0               \n",
            "tensorflow-gcs-config         2.5.0               \n",
            "tensorflow-hub                0.12.0              \n",
            "tensorflow-metadata           1.0.0               \n",
            "tensorflow-probability        0.12.1              \n",
            "termcolor                     1.1.0               \n",
            "terminado                     0.10.0              \n",
            "testpath                      0.5.0               \n",
            "text-unidecode                1.3                 \n",
            "textblob                      0.15.3              \n",
            "Theano-PyMC                   1.1.2               \n",
            "thinc                         7.4.0               \n",
            "tifffile                      2021.4.8            \n",
            "toml                          0.10.2              \n",
            "toolz                         0.11.1              \n",
            "torch                         1.8.1+cu101         \n",
            "torchsummary                  1.5.1               \n",
            "torchtext                     0.9.1               \n",
            "torchvision                   0.9.1+cu101         \n",
            "tornado                       5.1.1               \n",
            "tqdm                          4.41.1              \n",
            "traitlets                     5.0.5               \n",
            "tweepy                        3.10.0              \n",
            "typed-ast                     1.4.3               \n",
            "typeguard                     2.7.1               \n",
            "typing-extensions             3.7.4.3             \n",
            "tzlocal                       1.5.1               \n",
            "uritemplate                   3.0.1               \n",
            "urllib3                       1.24.3              \n",
            "vega-datasets                 0.9.0               \n",
            "visdom                        0.1.8.9             \n",
            "wasabi                        0.8.2               \n",
            "wcwidth                       0.2.5               \n",
            "webencodings                  0.5.1               \n",
            "websocket-client              1.0.1               \n",
            "Werkzeug                      1.0.1               \n",
            "wheel                         0.36.2              \n",
            "widgetsnbextension            3.5.1               \n",
            "wordcloud                     1.5.0               \n",
            "wrapt                         1.12.1              \n",
            "xarray                        0.18.2              \n",
            "xgboost                       0.90                \n",
            "xkit                          0.0.0               \n",
            "xlrd                          1.1.0               \n",
            "xlwt                          1.3.0               \n",
            "yellowbrick                   0.9.1               \n",
            "zict                          2.0.0               \n",
            "zipp                          3.4.1               \n"
          ],
          "name": "stdout"
        }
      ]
    },
    {
      "cell_type": "markdown",
      "metadata": {
        "id": "5nkajLQ5uVji"
      },
      "source": [
        "###Agregando ruta de instalación al path"
      ]
    },
    {
      "cell_type": "code",
      "metadata": {
        "id": "vTn35dUerINS"
      },
      "source": [
        "import sys\n",
        "sys.path.append('/content/Module-4')"
      ],
      "execution_count": 13,
      "outputs": []
    },
    {
      "cell_type": "markdown",
      "metadata": {
        "id": "is5-w4JzudOR"
      },
      "source": [
        "###Importando minitorch"
      ]
    },
    {
      "cell_type": "code",
      "metadata": {
        "id": "AwFdqp6-coaO"
      },
      "source": [
        "import minitorch"
      ],
      "execution_count": 14,
      "outputs": []
    },
    {
      "cell_type": "markdown",
      "metadata": {
        "id": "e7JivGJHui9B"
      },
      "source": [
        "###Ejecutando los tests"
      ]
    },
    {
      "cell_type": "code",
      "metadata": {
        "colab": {
          "base_uri": "https://localhost:8080/"
        },
        "id": "-kWxFy8zuc9u",
        "outputId": "bb5fd019-5bf1-4ce6-bceb-65d62c2a4915"
      },
      "source": [
        "%run Module-0/run_tests.py"
      ],
      "execution_count": 15,
      "outputs": [
        {
          "output_type": "stream",
          "text": [
            "\n",
            "=================\n",
            "Running test 0\n",
            "=================\n",
            "\n",
            "=================\n",
            "Running test 1\n",
            "=================\n",
            "\n",
            "=================\n",
            "Running test 2\n",
            "=================\n",
            "\n",
            "=================\n",
            "Running test 3\n",
            "=================\n",
            "\n",
            "=================\n",
            "Running test 4\n",
            "=================\n"
          ],
          "name": "stdout"
        }
      ]
    },
    {
      "cell_type": "code",
      "metadata": {
        "colab": {
          "base_uri": "https://localhost:8080/"
        },
        "id": "RVILeVQig1HM",
        "outputId": "74e4708e-f7f2-4087-d235-ed90c915b0c4"
      },
      "source": [
        "%run Module-1/run_tests.py"
      ],
      "execution_count": 16,
      "outputs": [
        {
          "output_type": "stream",
          "text": [
            "\n",
            "=================\n",
            "Running test 0\n",
            "=================\n",
            "\n",
            "=================\n",
            "Running test 1\n",
            "=================\n",
            "\n",
            "=================\n",
            "Running test 2\n",
            "=================\n",
            "\n",
            "=================\n",
            "Running test 3\n",
            "=================\n",
            "\n",
            "=================\n",
            "Running test 4\n",
            "=================\n"
          ],
          "name": "stdout"
        }
      ]
    },
    {
      "cell_type": "code",
      "metadata": {
        "colab": {
          "base_uri": "https://localhost:8080/"
        },
        "id": "dJjzpuybujcU",
        "outputId": "6b3464f3-6dc5-4bac-b85e-2adce0b296ed"
      },
      "source": [
        "%run Module-2/run_tests.py"
      ],
      "execution_count": 17,
      "outputs": [
        {
          "output_type": "stream",
          "text": [
            "\n",
            "=================\n",
            "Running test 0\n",
            "=================\n",
            "\n",
            "=================\n",
            "Running test 1\n",
            "=================\n",
            "\n",
            "=================\n",
            "Running test 2\n",
            "=================\n",
            "\n",
            "=================\n",
            "Running test 3\n",
            "=================\n",
            "\n",
            "=================\n",
            "Running test 4\n",
            "=================\n"
          ],
          "name": "stdout"
        }
      ]
    },
    {
      "cell_type": "code",
      "metadata": {
        "colab": {
          "base_uri": "https://localhost:8080/"
        },
        "id": "Ou-KQ5u9ukuW",
        "outputId": "331a0cdc-2401-4bc7-c8e2-d614cd7a38c9"
      },
      "source": [
        "%run Module-3/run_tests.py"
      ],
      "execution_count": 18,
      "outputs": [
        {
          "output_type": "stream",
          "text": [
            "\n",
            "=================\n",
            "Running test 0\n",
            "=================\n",
            "\n",
            "=================\n",
            "Running test 1\n",
            "=================\n",
            "\n",
            "=================\n",
            "Running test 2\n",
            "=================\n",
            "\n",
            "=================\n",
            "Running test 3\n",
            "=================\n",
            "\n",
            "=================\n",
            "Running test 4\n",
            "=================\n"
          ],
          "name": "stdout"
        }
      ]
    },
    {
      "cell_type": "code",
      "metadata": {
        "colab": {
          "base_uri": "https://localhost:8080/"
        },
        "id": "HWl9AWCMulSE",
        "outputId": "7e6268f5-416e-42a1-d437-fc84d5c07824"
      },
      "source": [
        "%run Module-4/run_tests.py"
      ],
      "execution_count": 19,
      "outputs": [
        {
          "output_type": "stream",
          "text": [
            "\n",
            "=================\n",
            "Running test 0\n",
            "=================\n",
            "\n",
            "=================\n",
            "Running test 1\n",
            "=================\n",
            "\n",
            "=================\n",
            "Running test 2\n",
            "=================\n",
            "\n",
            "=================\n",
            "Running test 3\n",
            "=================\n",
            "\n",
            "=================\n",
            "Running test 4\n",
            "=================\n"
          ],
          "name": "stdout"
        }
      ]
    }
  ]
}