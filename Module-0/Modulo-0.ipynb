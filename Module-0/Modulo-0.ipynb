{
  "nbformat": 4,
  "nbformat_minor": 0,
  "metadata": {
    "colab": {
      "name": "minitorch.ipynb",
      "provenance": [],
      "collapsed_sections": [
        "_Dd24T_ElqgZ",
        "RpREoLQqHfdC",
        "YgsJZrPWlzfS",
        "pZUPPysll5WB",
        "A_JXyS76mAFy",
        "VsINCFtiFX8l"
      ]
    },
    "kernelspec": {
      "name": "python3",
      "display_name": "Python 3"
    },
    "language_info": {
      "name": "python"
    }
  },
  "cells": [
    {
      "cell_type": "code",
      "metadata": {
        "colab": {
          "base_uri": "https://localhost:8080/"
        },
        "id": "mUnEygfZjTtM",
        "outputId": "39f03fb9-4c7c-4de5-e16b-425fd7a2870a"
      },
      "source": [
        "from google.colab import drive\n",
        "drive.mount('/content/drive')"
      ],
      "execution_count": 11,
      "outputs": [
        {
          "output_type": "stream",
          "text": [
            "Drive already mounted at /content/drive; to attempt to forcibly remount, call drive.mount(\"/content/drive\", force_remount=True).\n"
          ],
          "name": "stdout"
        }
      ]
    },
    {
      "cell_type": "markdown",
      "metadata": {
        "id": "_Dd24T_ElqgZ"
      },
      "source": [
        "#Instalando minitorch"
      ]
    },
    {
      "cell_type": "code",
      "metadata": {
        "colab": {
          "base_uri": "https://localhost:8080/"
        },
        "id": "gl1b67CrkJ8S",
        "outputId": "905c8c1a-a2fc-41b5-93ae-d22eb496ed43"
      },
      "source": [
        "!cd \"/content/drive/MyDrive/IA/minitorch/Module-0\" && python -m pip install -r requirements.txt && python -m pip install -r requirements.extra.txt && pip install -Ue .\n",
        "#!cd \"/content/drive/MyDrive/IA/minitorch/Module-1\" && python -m pip install -r requirements.txt && python -m pip install -r requirements.extra.txt && pip install -Ue .\n",
        "#!cd \"/content/drive/MyDrive/IA/minitorch/Module-2\" && python -m pip install -r requirements.txt && python -m pip install -r requirements.extra.txt && pip install -Ue .\n",
        "#!cd \"/content/drive/MyDrive/IA/minitorch/Module-3\" && python -m pip install -r requirements.txt && python -m pip install -r requirements.extra.txt && pip install -Ue .\n",
        "#!cd \"/content/drive/MyDrive/IA/minitorch/Module-4\" && python -m pip install -r requirements.txt && python -m pip install -r requirements.extra.txt && pip install -Ue ."
      ],
      "execution_count": 12,
      "outputs": [
        {
          "output_type": "stream",
          "text": [
            "Requirement already satisfied: numpy==1.19.1 in /usr/local/lib/python3.7/dist-packages (from -r requirements.txt (line 1)) (1.19.1)\n",
            "Requirement already satisfied: numba==0.49 in /usr/local/lib/python3.7/dist-packages (from -r requirements.txt (line 2)) (0.49.0)\n",
            "Requirement already satisfied: pytest==6.0.1 in /usr/local/lib/python3.7/dist-packages (from -r requirements.txt (line 3)) (6.0.1)\n",
            "Requirement already satisfied: pytest-runner==5.2 in /usr/local/lib/python3.7/dist-packages (from -r requirements.txt (line 4)) (5.2)\n",
            "Requirement already satisfied: hypothesis==4.38 in /usr/local/lib/python3.7/dist-packages (from -r requirements.txt (line 5)) (4.38.0)\n",
            "Requirement already satisfied: flake8==3.8.3 in /usr/local/lib/python3.7/dist-packages (from -r requirements.txt (line 6)) (3.8.3)\n",
            "Requirement already satisfied: black==19.10b0 in /usr/local/lib/python3.7/dist-packages (from -r requirements.txt (line 7)) (19.10b0)\n",
            "Requirement already satisfied: colorama==0.4.3 in /usr/local/lib/python3.7/dist-packages (from -r requirements.txt (line 8)) (0.4.3)\n",
            "Requirement already satisfied: pep8-naming==0.11.1 in /usr/local/lib/python3.7/dist-packages (from -r requirements.txt (line 9)) (0.11.1)\n",
            "Requirement already satisfied: llvmlite<=0.33.0.dev0,>=0.31.0.dev0 in /usr/local/lib/python3.7/dist-packages (from numba==0.49->-r requirements.txt (line 2)) (0.32.1)\n",
            "Requirement already satisfied: setuptools in /usr/local/lib/python3.7/dist-packages (from numba==0.49->-r requirements.txt (line 2)) (57.2.0)\n",
            "Requirement already satisfied: attrs>=17.4.0 in /usr/local/lib/python3.7/dist-packages (from pytest==6.0.1->-r requirements.txt (line 3)) (21.2.0)\n",
            "Requirement already satisfied: toml in /usr/local/lib/python3.7/dist-packages (from pytest==6.0.1->-r requirements.txt (line 3)) (0.10.2)\n",
            "Requirement already satisfied: importlib-metadata>=0.12 in /usr/local/lib/python3.7/dist-packages (from pytest==6.0.1->-r requirements.txt (line 3)) (4.6.1)\n",
            "Requirement already satisfied: pluggy<1.0,>=0.12 in /usr/local/lib/python3.7/dist-packages (from pytest==6.0.1->-r requirements.txt (line 3)) (0.13.1)\n",
            "Requirement already satisfied: more-itertools>=4.0.0 in /usr/local/lib/python3.7/dist-packages (from pytest==6.0.1->-r requirements.txt (line 3)) (8.8.0)\n",
            "Requirement already satisfied: iniconfig in /usr/local/lib/python3.7/dist-packages (from pytest==6.0.1->-r requirements.txt (line 3)) (1.1.1)\n",
            "Requirement already satisfied: py>=1.8.2 in /usr/local/lib/python3.7/dist-packages (from pytest==6.0.1->-r requirements.txt (line 3)) (1.10.0)\n",
            "Requirement already satisfied: packaging in /usr/local/lib/python3.7/dist-packages (from pytest==6.0.1->-r requirements.txt (line 3)) (21.0)\n",
            "Requirement already satisfied: mccabe<0.7.0,>=0.6.0 in /usr/local/lib/python3.7/dist-packages (from flake8==3.8.3->-r requirements.txt (line 6)) (0.6.1)\n",
            "Requirement already satisfied: pycodestyle<2.7.0,>=2.6.0a1 in /usr/local/lib/python3.7/dist-packages (from flake8==3.8.3->-r requirements.txt (line 6)) (2.6.0)\n",
            "Requirement already satisfied: pyflakes<2.3.0,>=2.2.0 in /usr/local/lib/python3.7/dist-packages (from flake8==3.8.3->-r requirements.txt (line 6)) (2.2.0)\n",
            "Requirement already satisfied: click>=6.5 in /usr/local/lib/python3.7/dist-packages (from black==19.10b0->-r requirements.txt (line 7)) (7.1.2)\n",
            "Requirement already satisfied: regex in /usr/local/lib/python3.7/dist-packages (from black==19.10b0->-r requirements.txt (line 7)) (2019.12.20)\n",
            "Requirement already satisfied: appdirs in /usr/local/lib/python3.7/dist-packages (from black==19.10b0->-r requirements.txt (line 7)) (1.4.4)\n",
            "Requirement already satisfied: pathspec<1,>=0.6 in /usr/local/lib/python3.7/dist-packages (from black==19.10b0->-r requirements.txt (line 7)) (0.9.0)\n",
            "Requirement already satisfied: typed-ast>=1.4.0 in /usr/local/lib/python3.7/dist-packages (from black==19.10b0->-r requirements.txt (line 7)) (1.4.3)\n",
            "Requirement already satisfied: flake8-polyfill<2,>=1.0.2 in /usr/local/lib/python3.7/dist-packages (from pep8-naming==0.11.1->-r requirements.txt (line 9)) (1.0.2)\n",
            "Requirement already satisfied: zipp>=0.5 in /usr/local/lib/python3.7/dist-packages (from importlib-metadata>=0.12->pytest==6.0.1->-r requirements.txt (line 3)) (3.5.0)\n",
            "Requirement already satisfied: typing-extensions>=3.6.4 in /usr/local/lib/python3.7/dist-packages (from importlib-metadata>=0.12->pytest==6.0.1->-r requirements.txt (line 3)) (3.7.4.3)\n",
            "Requirement already satisfied: pyparsing>=2.0.2 in /usr/local/lib/python3.7/dist-packages (from packaging->pytest==6.0.1->-r requirements.txt (line 3)) (2.4.7)\n",
            "Collecting git+https://github.com/facebookresearch/visdom (from -r requirements.extra.txt (line 3))\n",
            "  Cloning https://github.com/facebookresearch/visdom to /tmp/pip-req-build-gub4yhr6\n",
            "  Running command git clone -q https://github.com/facebookresearch/visdom /tmp/pip-req-build-gub4yhr6\n",
            "Requirement already satisfied: networkx==2.4 in /usr/local/lib/python3.7/dist-packages (from -r requirements.extra.txt (line 1)) (2.4)\n",
            "Collecting matplotlib==3.3.0\n",
            "  Using cached matplotlib-3.3.0-1-cp37-cp37m-manylinux1_x86_64.whl (11.5 MB)\n",
            "Requirement already satisfied: pydot==1.4.1 in /usr/local/lib/python3.7/dist-packages (from -r requirements.extra.txt (line 4)) (1.4.1)\n",
            "Requirement already satisfied: numpy>=1.8 in /usr/local/lib/python3.7/dist-packages (from visdom==0.1.8.9->-r requirements.extra.txt (line 3)) (1.19.1)\n",
            "Requirement already satisfied: scipy in /usr/local/lib/python3.7/dist-packages (from visdom==0.1.8.9->-r requirements.extra.txt (line 3)) (1.4.1)\n",
            "Requirement already satisfied: requests in /usr/local/lib/python3.7/dist-packages (from visdom==0.1.8.9->-r requirements.extra.txt (line 3)) (2.23.0)\n",
            "Requirement already satisfied: tornado in /usr/local/lib/python3.7/dist-packages (from visdom==0.1.8.9->-r requirements.extra.txt (line 3)) (5.1.1)\n",
            "Requirement already satisfied: pyzmq in /usr/local/lib/python3.7/dist-packages (from visdom==0.1.8.9->-r requirements.extra.txt (line 3)) (22.1.0)\n",
            "Requirement already satisfied: six in /usr/local/lib/python3.7/dist-packages (from visdom==0.1.8.9->-r requirements.extra.txt (line 3)) (1.15.0)\n",
            "Requirement already satisfied: jsonpatch in /usr/local/lib/python3.7/dist-packages (from visdom==0.1.8.9->-r requirements.extra.txt (line 3)) (1.32)\n",
            "Requirement already satisfied: websocket-client in /usr/local/lib/python3.7/dist-packages (from visdom==0.1.8.9->-r requirements.extra.txt (line 3)) (1.1.0)\n",
            "Requirement already satisfied: pillow in /usr/local/lib/python3.7/dist-packages (from visdom==0.1.8.9->-r requirements.extra.txt (line 3)) (7.1.2)\n",
            "Requirement already satisfied: decorator>=4.3.0 in /usr/local/lib/python3.7/dist-packages (from networkx==2.4->-r requirements.extra.txt (line 1)) (4.4.2)\n",
            "Requirement already satisfied: python-dateutil>=2.1 in /usr/local/lib/python3.7/dist-packages (from matplotlib==3.3.0->-r requirements.extra.txt (line 2)) (2.8.1)\n",
            "Requirement already satisfied: kiwisolver>=1.0.1 in /usr/local/lib/python3.7/dist-packages (from matplotlib==3.3.0->-r requirements.extra.txt (line 2)) (1.3.1)\n",
            "Requirement already satisfied: cycler>=0.10 in /usr/local/lib/python3.7/dist-packages (from matplotlib==3.3.0->-r requirements.extra.txt (line 2)) (0.10.0)\n",
            "Requirement already satisfied: pyparsing!=2.0.4,!=2.1.2,!=2.1.6,>=2.0.3 in /usr/local/lib/python3.7/dist-packages (from matplotlib==3.3.0->-r requirements.extra.txt (line 2)) (2.4.7)\n",
            "Requirement already satisfied: jsonpointer>=1.9 in /usr/local/lib/python3.7/dist-packages (from jsonpatch->visdom==0.1.8.9->-r requirements.extra.txt (line 3)) (2.1)\n",
            "Requirement already satisfied: chardet<4,>=3.0.2 in /usr/local/lib/python3.7/dist-packages (from requests->visdom==0.1.8.9->-r requirements.extra.txt (line 3)) (3.0.4)\n",
            "Requirement already satisfied: idna<3,>=2.5 in /usr/local/lib/python3.7/dist-packages (from requests->visdom==0.1.8.9->-r requirements.extra.txt (line 3)) (2.10)\n",
            "Requirement already satisfied: certifi>=2017.4.17 in /usr/local/lib/python3.7/dist-packages (from requests->visdom==0.1.8.9->-r requirements.extra.txt (line 3)) (2021.5.30)\n",
            "Requirement already satisfied: urllib3!=1.25.0,!=1.25.1,<1.26,>=1.21.1 in /usr/local/lib/python3.7/dist-packages (from requests->visdom==0.1.8.9->-r requirements.extra.txt (line 3)) (1.24.3)\n",
            "Installing collected packages: matplotlib\n",
            "  Attempting uninstall: matplotlib\n",
            "    Found existing installation: matplotlib 3.4.2\n",
            "    Uninstalling matplotlib-3.4.2:\n",
            "      Successfully uninstalled matplotlib-3.4.2\n",
            "\u001b[31mERROR: pip's dependency resolver does not currently take into account all the packages that are installed. This behaviour is the source of the following dependency conflicts.\n",
            "albumentations 0.1.12 requires imgaug<0.2.7,>=0.2.5, but you have imgaug 0.2.9 which is incompatible.\u001b[0m\n",
            "Successfully installed matplotlib-3.3.0\n",
            "Obtaining file:///content/drive/MyDrive/IA/minitorch/Module-0\n",
            "  Installing build dependencies ... \u001b[?25l\u001b[?25hdone\n",
            "  Getting requirements to build wheel ... \u001b[?25l\u001b[?25hdone\n",
            "  Installing backend dependencies ... \u001b[?25l\u001b[?25hdone\n",
            "    Preparing wheel metadata ... \u001b[?25l\u001b[?25hdone\n",
            "Installing collected packages: minitorch\n",
            "  Attempting uninstall: minitorch\n",
            "    Found existing installation: minitorch 0.1\n",
            "    Can't uninstall 'minitorch'. No files were found to uninstall.\n",
            "  Running setup.py develop for minitorch\n",
            "Successfully installed minitorch-0.1\n"
          ],
          "name": "stdout"
        }
      ]
    },
    {
      "cell_type": "markdown",
      "metadata": {
        "id": "RpREoLQqHfdC"
      },
      "source": [
        "#instalando visdom"
      ]
    },
    {
      "cell_type": "code",
      "metadata": {
        "colab": {
          "base_uri": "https://localhost:8080/"
        },
        "id": "XShDXSVdHy5j",
        "outputId": "8b8251ea-cf8f-4068-b6a2-c0d4b2ec9f17"
      },
      "source": [
        "!pip install -U matplotlib"
      ],
      "execution_count": 1,
      "outputs": [
        {
          "output_type": "stream",
          "text": [
            "Requirement already satisfied: matplotlib in /usr/local/lib/python3.7/dist-packages (3.4.2)\n",
            "Requirement already satisfied: pyparsing>=2.2.1 in /usr/local/lib/python3.7/dist-packages (from matplotlib) (2.4.7)\n",
            "Requirement already satisfied: python-dateutil>=2.7 in /usr/local/lib/python3.7/dist-packages (from matplotlib) (2.8.1)\n",
            "Requirement already satisfied: numpy>=1.16 in /usr/local/lib/python3.7/dist-packages (from matplotlib) (1.19.1)\n",
            "Requirement already satisfied: pillow>=6.2.0 in /usr/local/lib/python3.7/dist-packages (from matplotlib) (7.1.2)\n",
            "Requirement already satisfied: cycler>=0.10 in /usr/local/lib/python3.7/dist-packages (from matplotlib) (0.10.0)\n",
            "Requirement already satisfied: kiwisolver>=1.0.1 in /usr/local/lib/python3.7/dist-packages (from matplotlib) (1.3.1)\n",
            "Requirement already satisfied: six in /usr/local/lib/python3.7/dist-packages (from cycler>=0.10->matplotlib) (1.15.0)\n"
          ],
          "name": "stdout"
        }
      ]
    },
    {
      "cell_type": "code",
      "metadata": {
        "colab": {
          "base_uri": "https://localhost:8080/"
        },
        "id": "_E41-uiRHc3y",
        "outputId": "0ab20f47-7af3-40a1-b05e-a159e8a444c4"
      },
      "source": [
        "!npm install -g localtunnel\n",
        "# 8097 is the port number I set myself, which can be modified to the port number I want to use\n",
        "get_ipython().system_raw('python3 -m pip install visdom')\n",
        "get_ipython().system_raw('python3 -m visdom.server -port 8097 >> visdomlog.txt 2>&1 &')   \n",
        "get_ipython().system_raw('lt --port 8097 >> url.txt 2>&1 &')"
      ],
      "execution_count": 2,
      "outputs": [
        {
          "output_type": "stream",
          "text": [
            "\u001b[K\u001b[?25h/tools/node/bin/lt -> /tools/node/lib/node_modules/localtunnel/bin/lt.js\n",
            "+ localtunnel@2.0.1\n",
            "updated 1 package in 1.02s\n"
          ],
          "name": "stdout"
        }
      ]
    },
    {
      "cell_type": "markdown",
      "metadata": {
        "id": "YgsJZrPWlzfS"
      },
      "source": [
        "#pyhton-mnist"
      ]
    },
    {
      "cell_type": "code",
      "metadata": {
        "colab": {
          "base_uri": "https://localhost:8080/"
        },
        "id": "lwdKO6Q8kXg5",
        "outputId": "a1dc038d-fdfb-49cc-a4f7-534b51ebec95"
      },
      "source": [
        "!pip install python-mnist"
      ],
      "execution_count": 3,
      "outputs": [
        {
          "output_type": "stream",
          "text": [
            "Requirement already satisfied: python-mnist in /usr/local/lib/python3.7/dist-packages (0.7)\n"
          ],
          "name": "stdout"
        }
      ]
    },
    {
      "cell_type": "markdown",
      "metadata": {
        "id": "pZUPPysll5WB"
      },
      "source": [
        "#Show"
      ]
    },
    {
      "cell_type": "code",
      "metadata": {
        "colab": {
          "base_uri": "https://localhost:8080/"
        },
        "id": "rTUUIZxNk1Zm",
        "outputId": "22047e17-2263-4009-feb7-54dbef77b33c"
      },
      "source": [
        "!pip show minitorch"
      ],
      "execution_count": 4,
      "outputs": [
        {
          "output_type": "stream",
          "text": [
            "Name: minitorch\n",
            "Version: 0.1\n",
            "Summary: UNKNOWN\n",
            "Home-page: UNKNOWN\n",
            "Author: None\n",
            "Author-email: None\n",
            "License: UNKNOWN\n",
            "Location: /content/drive/MyDrive/IA/minitorch/Module-0\n",
            "Requires: \n",
            "Required-by: \n"
          ],
          "name": "stdout"
        }
      ]
    },
    {
      "cell_type": "markdown",
      "metadata": {
        "id": "A_JXyS76mAFy"
      },
      "source": [
        "#Path"
      ]
    },
    {
      "cell_type": "code",
      "metadata": {
        "id": "9syRLRzTkfMh"
      },
      "source": [
        "import sys\n",
        "sys.path.append('/content/drive/MyDrive/IA/minitorch/Module-0')\n",
        "#sys.path.append('/content/drive/MyDrive/IA/minitorch/Module-1')\n",
        "#sys.path.append('/content/drive/MyDrive/IA/minitorch/Module-2')\n",
        "#sys.path.append('/content/drive/MyDrive/IA/minitorch/Module-3')\n",
        "#sys.path.append('/content/drive/MyDrive/IA/minitorch/Module-4')"
      ],
      "execution_count": 5,
      "outputs": []
    },
    {
      "cell_type": "markdown",
      "metadata": {
        "id": "VsINCFtiFX8l"
      },
      "source": [
        "#Importando minitorch"
      ]
    },
    {
      "cell_type": "code",
      "metadata": {
        "id": "s8aSLGufFef1"
      },
      "source": [
        "import minitorch"
      ],
      "execution_count": 6,
      "outputs": []
    },
    {
      "cell_type": "markdown",
      "metadata": {
        "id": "2QWJOcpVmJmJ"
      },
      "source": [
        "#Tests"
      ]
    },
    {
      "cell_type": "code",
      "metadata": {
        "id": "nfd9GATFkrjm",
        "colab": {
          "base_uri": "https://localhost:8080/"
        },
        "outputId": "b15c066b-0aea-40fc-8eef-c4b60befa499"
      },
      "source": [
        "%run /content/drive/MyDrive/IA/minitorch/Module-0/tests/test_operators.py\n",
        "%run /content/drive/MyDrive/IA/minitorch/Module-0/tests/test_module.py\n",
        "\n",
        "%run -m pytest /content/drive/MyDrive/IA/minitorch/Module-0\n",
        "\n",
        "#%run /content/drive/MyDrive/IA/minitorch/Module-1/tests/test_scalar.py\n",
        "#%run /content/drive/MyDrive/IA/minitorch/Module-1/tests/test_autodiff.py\n",
        "\n",
        "#%run -m pytest /content/drive/MyDrive/IA/minitorch/Module-1\n",
        "\n",
        "#%run /content/drive/MyDrive/IA/minitorch/Module-2/tests/test_tensor_data.py\n",
        "#%run /content/drive/MyDrive/IA/minitorch/Module-2/tests/test_tensor.py\n",
        "\n",
        "#%run -m pytest /content/drive/MyDrive/IA/minitorch/Module-2"
      ],
      "execution_count": 7,
      "outputs": [
        {
          "output_type": "stream",
          "text": [
            "============================= test session starts ==============================\n",
            "platform linux -- Python 3.7.11, pytest-6.0.1, py-1.10.0, pluggy-0.13.1\n",
            "hypothesis profile 'ci' -> deadline=None, database=DirectoryBasedExampleDatabase('/content/.hypothesis/examples')\n",
            "rootdir: /content/drive/MyDrive/IA/minitorch/Module-0, configfile: pytest.ini\n",
            "plugins: hypothesis-4.38.0, typeguard-2.7.1\n",
            "collected 11 items\n",
            "\n",
            "drive/MyDrive/IA/minitorch/Module-0/tests/test_module.py ..              [ 18%]\n",
            "drive/MyDrive/IA/minitorch/Module-0/tests/test_operators.py .........    [100%]\n",
            "\n",
            "=============================== warnings summary ===============================\n",
            "/usr/local/lib/python3.7/dist-packages/_pytest/config/__init__.py:1040\n",
            "  /usr/local/lib/python3.7/dist-packages/_pytest/config/__init__.py:1040: PytestAssertRewriteWarning: Module already imported so cannot be rewritten: hypothesis\n",
            "    self._mark_plugins_for_rewrite(hook)\n",
            "\n",
            "-- Docs: https://docs.pytest.org/en/stable/warnings.html\n",
            "======================== 11 passed, 1 warning in 1.97s =========================\n"
          ],
          "name": "stdout"
        }
      ]
    },
    {
      "cell_type": "markdown",
      "metadata": {
        "id": "4R0Egq_OODvc"
      },
      "source": [
        "#Project"
      ]
    },
    {
      "cell_type": "code",
      "metadata": {
        "id": "KZQzZ-8iYdGA",
        "colab": {
          "base_uri": "https://localhost:8080/"
        },
        "outputId": "f4fb035d-c396-4f83-a9a6-b191c6e5e5a1"
      },
      "source": [
        "%run /content/drive/MyDrive/IA/minitorch/Module-0/project/run_torch.py\n",
        "\n",
        "#%run /content/drive/MyDrive/IA/minitorch/Module-1/project/run_scalar.py\n",
        "#%run /content/drive/MyDrive/IA/minitorch/Module-1/project/show_expression.py\n",
        "\n",
        "#%run /content/drive/MyDrive/IA/minitorch/Module-2/project/run_tensor.py\n",
        "#%run /content/drive/MyDrive/IA/minitorch/Module-2/project/show_expression.py"
      ],
      "execution_count": 12,
      "outputs": [
        {
          "output_type": "stream",
          "text": [
            "Setting up a new session...\n"
          ],
          "name": "stderr"
        },
        {
          "output_type": "stream",
          "text": [
            "Epoch  0  loss  tensor(498.1745, grad_fn=<NegBackward>) correct tensor(117)\n",
            "Epoch  10  loss  tensor(167.1582, grad_fn=<NegBackward>) correct tensor(144)\n",
            "Epoch  20  loss  tensor(164.8847, grad_fn=<NegBackward>) correct tensor(155)\n",
            "Epoch  30  loss  tensor(161.9060, grad_fn=<NegBackward>) correct tensor(159)\n",
            "Epoch  40  loss  tensor(157.4677, grad_fn=<NegBackward>) correct tensor(171)\n",
            "Epoch  50  loss  tensor(150.7590, grad_fn=<NegBackward>) correct tensor(191)\n",
            "Epoch  60  loss  tensor(140.6359, grad_fn=<NegBackward>) correct tensor(222)\n",
            "Epoch  70  loss  tensor(139.2227, grad_fn=<NegBackward>) correct tensor(163)\n",
            "Epoch  80  loss  tensor(151.8402, grad_fn=<NegBackward>) correct tensor(134)\n",
            "Epoch  90  loss  tensor(125.9654, grad_fn=<NegBackward>) correct tensor(170)\n",
            "Epoch  100  loss  tensor(112.4231, grad_fn=<NegBackward>) correct tensor(189)\n",
            "Epoch  110  loss  tensor(103.1259, grad_fn=<NegBackward>) correct tensor(199)\n",
            "Epoch  120  loss  tensor(97.6014, grad_fn=<NegBackward>) correct tensor(201)\n",
            "Epoch  130  loss  tensor(84.4475, grad_fn=<NegBackward>) correct tensor(214)\n",
            "Epoch  140  loss  tensor(73.9772, grad_fn=<NegBackward>) correct tensor(220)\n",
            "Epoch  150  loss  tensor(68.7978, grad_fn=<NegBackward>) correct tensor(220)\n",
            "Epoch  160  loss  tensor(63.3522, grad_fn=<NegBackward>) correct tensor(219)\n",
            "Epoch  170  loss  tensor(54.5981, grad_fn=<NegBackward>) correct tensor(225)\n",
            "Epoch  180  loss  tensor(53.6546, grad_fn=<NegBackward>) correct tensor(229)\n",
            "Epoch  190  loss  tensor(56.4285, grad_fn=<NegBackward>) correct tensor(221)\n",
            "Epoch  200  loss  tensor(54.6918, grad_fn=<NegBackward>) correct tensor(225)\n",
            "Epoch  210  loss  tensor(53.6966, grad_fn=<NegBackward>) correct tensor(220)\n",
            "Epoch  220  loss  tensor(36.6880, grad_fn=<NegBackward>) correct tensor(240)\n",
            "Epoch  230  loss  tensor(55.3974, grad_fn=<NegBackward>) correct tensor(227)\n",
            "Epoch  240  loss  tensor(47.0337, grad_fn=<NegBackward>) correct tensor(223)\n",
            "Epoch  250  loss  tensor(31.8892, grad_fn=<NegBackward>) correct tensor(243)\n",
            "Epoch  260  loss  tensor(31.7040, grad_fn=<NegBackward>) correct tensor(242)\n",
            "Epoch  270  loss  tensor(32.1702, grad_fn=<NegBackward>) correct tensor(239)\n",
            "Epoch  280  loss  tensor(35.7739, grad_fn=<NegBackward>) correct tensor(234)\n",
            "Epoch  290  loss  tensor(31.7694, grad_fn=<NegBackward>) correct tensor(239)\n",
            "Epoch  300  loss  tensor(31.9189, grad_fn=<NegBackward>) correct tensor(236)\n",
            "Epoch  310  loss  tensor(78.7579, grad_fn=<NegBackward>) correct tensor(214)\n",
            "Epoch  320  loss  tensor(35.3354, grad_fn=<NegBackward>) correct tensor(234)\n",
            "Epoch  330  loss  tensor(24.8858, grad_fn=<NegBackward>) correct tensor(242)\n",
            "Epoch  340  loss  tensor(23.7622, grad_fn=<NegBackward>) correct tensor(242)\n",
            "Epoch  350  loss  tensor(40.9616, grad_fn=<NegBackward>) correct tensor(232)\n",
            "Epoch  360  loss  tensor(25.2841, grad_fn=<NegBackward>) correct tensor(244)\n",
            "Epoch  370  loss  tensor(25.7142, grad_fn=<NegBackward>) correct tensor(243)\n",
            "Epoch  380  loss  tensor(27.6144, grad_fn=<NegBackward>) correct tensor(242)\n",
            "Epoch  390  loss  tensor(27.8431, grad_fn=<NegBackward>) correct tensor(241)\n",
            "Epoch  400  loss  tensor(27.4096, grad_fn=<NegBackward>) correct tensor(239)\n",
            "Epoch  410  loss  tensor(24.3601, grad_fn=<NegBackward>) correct tensor(242)\n",
            "Epoch  420  loss  tensor(24.3919, grad_fn=<NegBackward>) correct tensor(240)\n",
            "Epoch  430  loss  tensor(42.7785, grad_fn=<NegBackward>) correct tensor(227)\n",
            "Epoch  440  loss  tensor(45.2806, grad_fn=<NegBackward>) correct tensor(232)\n",
            "Epoch  450  loss  tensor(23.8945, grad_fn=<NegBackward>) correct tensor(241)\n",
            "Epoch  460  loss  tensor(24.1042, grad_fn=<NegBackward>) correct tensor(241)\n",
            "Epoch  470  loss  tensor(21.7096, grad_fn=<NegBackward>) correct tensor(241)\n",
            "Epoch  480  loss  tensor(24.4393, grad_fn=<NegBackward>) correct tensor(242)\n",
            "Epoch  490  loss  tensor(23.6177, grad_fn=<NegBackward>) correct tensor(242)\n"
          ],
          "name": "stdout"
        }
      ]
    },
    {
      "cell_type": "code",
      "metadata": {
        "id": "SPrZKaR56qYE"
      },
      "source": [
        "#[1]*10**10"
      ],
      "execution_count": 9,
      "outputs": []
    }
  ]
}